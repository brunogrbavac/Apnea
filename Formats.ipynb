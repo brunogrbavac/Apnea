{
 "cells": [
  {
   "cell_type": "code",
   "execution_count": 1,
   "id": "d6b291af-b664-439b-a6be-3f1f66322e50",
   "metadata": {},
   "outputs": [],
   "source": [
    "import pandas as pd\n",
    "import mne\n",
    "import numpy as np\n",
    "import time\n",
    "import os\n",
    "import matplotlib.pyplot as plt\n",
    "import pyarrow.feather as feather\n",
    "from mne.export import export_raw"
   ]
  },
  {
   "cell_type": "code",
   "execution_count": 2,
   "id": "ed3eb300-2ecd-4193-b90e-bf754853fff9",
   "metadata": {},
   "outputs": [],
   "source": [
    "root_path=\"C:\\\\Users\\\\bruno\\\\Desktop\\\\Diplomski\\\\\"\n",
    "edf_path = root_path + \" \\\\edf_signals.edf\"\n",
    "feather_path = root_path + \" \\\\edf_signals.feather\"\n",
    "csv_path = root_path + \"edf_signals.csv\""
   ]
  },
  {
   "cell_type": "code",
   "execution_count": 3,
   "id": "2d20a85a-3649-46b7-a515-0ec225b02ac1",
   "metadata": {},
   "outputs": [],
   "source": [
    "read_times = {}\n",
    "write_times = {}\n",
    "file_sizes = {}"
   ]
  },
  {
   "cell_type": "code",
   "execution_count": 4,
   "id": "4b77d64f-1562-4d60-bb5b-b2efd107fa85",
   "metadata": {},
   "outputs": [
    {
     "name": "stdout",
     "output_type": "stream",
     "text": [
      "Extracting EDF parameters from C:\\Users\\bruno\\Desktop\\Diplomski\\38011864_B\\edf_signals.edf...\n",
      "EDF file detected\n",
      "Setting channel info structure...\n",
      "Creating raw.info structure...\n",
      "Reading 0 ... 16987999  =      0.000 ... 33975.998 secs...\n"
     ]
    },
    {
     "name": "stderr",
     "output_type": "stream",
     "text": [
      "C:\\Users\\bruno\\AppData\\Local\\Temp\\ipykernel_22252\\3335567956.py:2: RuntimeWarning: Channel names are not unique, found duplicates for: {'Flow Patient'}. Applying running numbers for duplicates.\n",
      "  data = mne.io.read_raw_edf(edf_path, preload=True)\n"
     ]
    }
   ],
   "source": [
    "start_time = time.time()\n",
    "data = mne.io.read_raw_edf(edf_path, preload=True)\n",
    "\n",
    "data_raw = data.get_data()\n",
    "data_channels = data.ch_names\n",
    "signal = pd.DataFrame(data_raw)\n",
    "signal = signal.T\n",
    "signal.columns = data_channels\n",
    "\n",
    "read_times['EDF'] = time.time() - start_time"
   ]
  },
  {
   "cell_type": "code",
   "execution_count": 5,
   "id": "dc65da0d-cfa2-4a31-a6a7-a1407729b0fa",
   "metadata": {},
   "outputs": [],
   "source": [
    "file_sizes['EDF'] = os.path.getsize(edf_path)"
   ]
  },
  {
   "cell_type": "code",
   "execution_count": 6,
   "id": "60b269db-65f5-474b-8807-e40c990cd74a",
   "metadata": {},
   "outputs": [
    {
     "name": "stdout",
     "output_type": "stream",
     "text": [
      "Creating RawArray with float64 data, n_channels=21, n_times=16988000\n",
      "    Range : 0 ... 16987999 =      0.000 ... 33975.998 secs\n",
      "Ready.\n",
      "Overwriting existing file.\n"
     ]
    }
   ],
   "source": [
    "start_time = time.time()\n",
    "sfreq = 500.0 \n",
    "\n",
    "n_channels = len(signal.columns)\n",
    "ch_names = list(signal.columns)\n",
    "ch_types = ['eeg'] * n_channels\n",
    "info = mne.create_info(ch_names=ch_names, sfreq=sfreq, ch_types=ch_types)\n",
    "\n",
    "# Create the RawArray object\n",
    "data = signal.to_numpy().T\n",
    "raw = mne.io.RawArray(data, info)\n",
    "\n",
    "# Save as EDF\n",
    "export_raw('data.edf',raw, fmt='edf', overwrite=True)  # Use the export_raw function for EDF\n",
    "write_times['EDF'] = time.time() - start_time"
   ]
  },
  {
   "cell_type": "code",
   "execution_count": 15,
   "id": "c81a8857-bad4-4166-b607-98886863e61f",
   "metadata": {},
   "outputs": [],
   "source": [
    "start_time = time.time()\n",
    "table_data = feather.read_table(feather_path)\n",
    "feather_df = table_data.to_pandas()\n",
    "read_times['Feather'] = time.time() - start_time"
   ]
  },
  {
   "cell_type": "code",
   "execution_count": 16,
   "id": "814f03ee-f2b1-42a3-8f83-1f6141402568",
   "metadata": {},
   "outputs": [],
   "source": [
    "file_sizes['Feather'] = os.path.getsize(feather_path)"
   ]
  },
  {
   "cell_type": "code",
   "execution_count": 17,
   "id": "01969030-1c21-4723-9c79-33d8f7e5f52a",
   "metadata": {},
   "outputs": [],
   "source": [
    "start_time = time.time()\n",
    "feather.write_feather(feather_df, root_path + \"edf_signals.feather\")\n",
    "write_times['Feather'] = time.time() - start_time"
   ]
  },
  {
   "cell_type": "code",
   "execution_count": null,
   "id": "163aac96-7f91-4584-a62a-cbdf90b07789",
   "metadata": {},
   "outputs": [],
   "source": [
    "start_time = time.time()\n",
    "csv_df = pd.read_csv(csv_path)\n",
    "read_times['CSV'] = time.time() - start_time"
   ]
  },
  {
   "cell_type": "code",
   "execution_count": null,
   "id": "38b41d91-7f72-401e-ab3e-3bf7b4387f86",
   "metadata": {},
   "outputs": [],
   "source": [
    "file_sizes['CSV'] = os.path.getsize(csv_path)"
   ]
  },
  {
   "cell_type": "code",
   "execution_count": 12,
   "id": "e00af3f9-17f5-4fea-ab52-17dd87a377f1",
   "metadata": {},
   "outputs": [],
   "source": [
    "start_time = time.time()\n",
    "signal.to_csv('edf_signals.csv', index=False)\n",
    "write_times['CSV'] = time.time() - start_time"
   ]
  },
  {
   "cell_type": "code",
   "execution_count": null,
   "id": "7d82f848-780c-4438-9416-39b4d7641ba2",
   "metadata": {},
   "outputs": [],
   "source": [
    "labels = list(read_times.keys())\n",
    "fig, ax = plt.subplots(1, 3, figsize=(15, 5))\n",
    "\n",
    "ax[0].bar(labels, list(read_times.values()))\n",
    "ax[0].set_title('Vrijeme čitanja (sekunde)')\n",
    "ax[0].set_ylabel('Vrijeme (s)')\n",
    "\n",
    "ax[1].bar(labels, list(write_times.values()))\n",
    "ax[1].set_title('Vrijeme pisanja (sekunde)')\n",
    "ax[1].set_ylabel('Vrijeme (s)')\n",
    "\n",
    "ax[2].bar(labels, list(file_sizes.values()))\n",
    "ax[2].set_title('Veličina datoteke (bajt)')\n",
    "ax[2].set_ylabel('Veličina (B)')\n",
    "\n",
    "plt.show()"
   ]
  },
  {
   "cell_type": "code",
   "execution_count": null,
   "id": "1f331d05-258c-4535-83c4-9af895a340e0",
   "metadata": {},
   "outputs": [],
   "source": []
  }
 ],
 "metadata": {
  "kernelspec": {
   "display_name": "Python 3 (ipykernel)",
   "language": "python",
   "name": "python3"
  },
  "language_info": {
   "codemirror_mode": {
    "name": "ipython",
    "version": 3
   },
   "file_extension": ".py",
   "mimetype": "text/x-python",
   "name": "python",
   "nbconvert_exporter": "python",
   "pygments_lexer": "ipython3",
   "version": "3.11.4"
  }
 },
 "nbformat": 4,
 "nbformat_minor": 5
}
