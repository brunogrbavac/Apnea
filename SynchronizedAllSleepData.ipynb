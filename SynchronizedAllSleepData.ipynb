{
 "cells": [
  {
   "cell_type": "code",
   "execution_count": 1,
   "id": "13fafaa6",
   "metadata": {
    "editable": true,
    "executionInfo": {
     "elapsed": 263,
     "status": "ok",
     "timestamp": 1690731393284,
     "user": {
      "displayName": "Bruno Grbavac",
      "userId": "16503847937335209341"
     },
     "user_tz": -120
    },
    "id": "iKw0rfKE3gg_",
    "slideshow": {
     "slide_type": ""
    },
    "tags": [
     "parameters"
    ]
   },
   "outputs": [],
   "source": [
    "#parameters\n",
    "\n",
    "root_path=\"C:\\\\Users\\\\bruno\\\\Desktop\\\\Diplomski\\\\ \\\\\""
   ]
  },
  {
   "cell_type": "code",
   "execution_count": 2,
   "id": "6e561e2a",
   "metadata": {
    "editable": true,
    "executionInfo": {
     "elapsed": 3336,
     "status": "ok",
     "timestamp": 1690731414084,
     "user": {
      "displayName": "Bruno Grbavac",
      "userId": "16503847937335209341"
     },
     "user_tz": -120
    },
    "id": "ca63a5b0",
    "slideshow": {
     "slide_type": ""
    },
    "tags": []
   },
   "outputs": [],
   "source": [
    "import pandas as pd\n",
    "import numpy as np\n",
    "import csv\n",
    "import mne\n",
    "from scipy.signal import find_peaks\n",
    "from matplotlib import pyplot as plt, dates as mdates\n",
    "import math\n",
    "from datetime import datetime, timedelta, time\n",
    "import pyarrow.feather as feather\n",
    "from getEventTypes import getEventTypes"
   ]
  },
  {
   "cell_type": "code",
   "execution_count": 3,
   "id": "ca8ad199-07ee-46cc-9118-f5bc4612cd5a",
   "metadata": {
    "editable": true,
    "slideshow": {
     "slide_type": ""
    },
    "tags": []
   },
   "outputs": [],
   "source": [
    "edf_path = root_path + \"edf_signals.feather\"\n",
    "meas_date_path = root_path + \"meas_date.feather\"\n",
    "hypnogram_path = root_path + \"csv_hypnogram.csv\"\n",
    "events_path = root_path + \"csv_events.csv\""
   ]
  },
  {
   "cell_type": "code",
   "execution_count": 4,
   "id": "743be7cb",
   "metadata": {
    "colab": {
     "base_uri": "https://localhost:8080/"
    },
    "editable": true,
    "executionInfo": {
     "elapsed": 39583,
     "status": "ok",
     "timestamp": 1690733142155,
     "user": {
      "displayName": "Bruno Grbavac",
      "userId": "16503847937335209341"
     },
     "user_tz": -120
    },
    "id": "9eddc5d5",
    "outputId": "2ab31eb8-26c4-4af5-c879-38e1d05cf9ac",
    "slideshow": {
     "slide_type": ""
    },
    "tags": []
   },
   "outputs": [],
   "source": [
    "table_data = feather.read_table(edf_path)\n",
    "signal_no_sleep_no_events = table_data.to_pandas()\n",
    "\n",
    "meas_table_data = feather.read_table(meas_date_path)\n",
    "meas_date = meas_table_data.to_pandas()['meas_date'][0]"
   ]
  },
  {
   "cell_type": "code",
   "execution_count": 7,
   "id": "0e83e1da",
   "metadata": {
    "editable": true,
    "executionInfo": {
     "elapsed": 2,
     "status": "ok",
     "timestamp": 1690733142414,
     "user": {
      "displayName": "Bruno Grbavac",
      "userId": "16503847937335209341"
     },
     "user_tz": -120
    },
    "id": "9bFs5Nkq7-3O",
    "slideshow": {
     "slide_type": ""
    },
    "tags": []
   },
   "outputs": [],
   "source": [
    "yesterday = datetime.now() - timedelta(days=1)\n",
    "start_time = meas_date.replace(tzinfo=None).replace(year=yesterday.year, month=yesterday.month, day=yesterday.day)\n",
    "end_time = start_time + timedelta(milliseconds=signal_no_sleep_no_events.shape[0]*2)"
   ]
  },
  {
   "cell_type": "code",
   "execution_count": 29,
   "id": "d97129c9",
   "metadata": {
    "colab": {
     "base_uri": "https://localhost:8080/"
    },
    "editable": true,
    "executionInfo": {
     "elapsed": 246,
     "status": "ok",
     "timestamp": 1690733164112,
     "user": {
      "displayName": "Bruno Grbavac",
      "userId": "16503847937335209341"
     },
     "user_tz": -120
    },
    "id": "iGl-_pHJi9G1",
    "outputId": "337e5358-183a-4cc2-d9de-242e5552ff1e",
    "slideshow": {
     "slide_type": ""
    },
    "tags": []
   },
   "outputs": [],
   "source": [
    "number_of_samples = signal_no_sleep_no_events.shape[0]"
   ]
  },
  {
   "cell_type": "code",
   "execution_count": 30,
   "id": "16395632",
   "metadata": {
    "executionInfo": {
     "elapsed": 325,
     "status": "ok",
     "timestamp": 1690731488537,
     "user": {
      "displayName": "Bruno Grbavac",
      "userId": "16503847937335209341"
     },
     "user_tz": -120
    },
    "id": "433a16d0"
   },
   "outputs": [],
   "source": [
    "def shiftTimestampToYesterday(value):\n",
    "    noon = time(12, 0)\n",
    "    if(noon<value.time()):\n",
    "        return value - timedelta(days=1)\n",
    "    else:\n",
    "        return value\n",
    "\n",
    "SleepPhases = {\n",
    "    'WK' : 0,\n",
    "    'N1' : 1,\n",
    "    'N2' : 2,\n",
    "    'N3' : 3,\n",
    "    'REM' : 4}"
   ]
  },
  {
   "cell_type": "code",
   "execution_count": 31,
   "id": "4567674b-7fab-4539-9909-fce40e33e8df",
   "metadata": {},
   "outputs": [],
   "source": [
    "hypno_df = pd.read_csv(hypnogram_path)\n",
    "events_df = pd.read_csv(events_path, sep=';')"
   ]
  },
  {
   "cell_type": "code",
   "execution_count": 32,
   "id": "7bc58204-0e19-4aa9-aacc-8c04ca3bcefc",
   "metadata": {
    "editable": true,
    "slideshow": {
     "slide_type": ""
    },
    "tags": []
   },
   "outputs": [
    {
     "name": "stderr",
     "output_type": "stream",
     "text": [
      "C:\\Users\\bruno\\AppData\\Local\\Temp\\ipykernel_6744\\2306849214.py:2: UserWarning: Could not infer format, so each element will be parsed individually, falling back to `dateutil`. To ensure parsing is consistent and as-expected, please specify a format.\n",
      "  events_df['Time'] = pd.to_datetime(events_df['Time'])\n"
     ]
    }
   ],
   "source": [
    "hypno_df['Sleep Stage Int'] = hypno_df['Sleep Stage'].map(SleepPhases.get)\n",
    "events_df['Time'] = pd.to_datetime(events_df['Time'])\n",
    "events_df['Time'] = events_df['Time'].apply(shiftTimestampToYesterday) "
   ]
  },
  {
   "cell_type": "code",
   "execution_count": 33,
   "id": "058e6158",
   "metadata": {
    "executionInfo": {
     "elapsed": 266,
     "status": "ok",
     "timestamp": 1690732534873,
     "user": {
      "displayName": "Bruno Grbavac",
      "userId": "16503847937335209341"
     },
     "user_tz": -120
    },
    "id": "cab1e50b"
   },
   "outputs": [
    {
     "name": "stderr",
     "output_type": "stream",
     "text": [
      "C:\\Users\\bruno\\AppData\\Local\\Temp\\ipykernel_6744\\1060567551.py:2: UserWarning: Could not infer format, so each element will be parsed individually, falling back to `dateutil`. To ensure parsing is consistent and as-expected, please specify a format.\n",
      "  hypno_df['Start'] = pd.to_datetime(hypno_df['Start'])\n"
     ]
    }
   ],
   "source": [
    "hypno_df.rename(columns={' Epoch Number ':'Epoch','Sleep Stage Int': 'Stage','Sleep Stage': 'Stage Name' , 'Start Time ':'Start'}, inplace=True)\n",
    "hypno_df['Start'] = pd.to_datetime(hypno_df['Start'])\n",
    "hypno_df['Epoch'] = hypno_df['Epoch'].astype(int)\n",
    "hypno_df['Start'] = hypno_df['Start'].apply(shiftTimestampToYesterday)\n",
    "hypno_df = hypno_df.sort_values(by=['Start'])"
   ]
  },
  {
   "cell_type": "code",
   "execution_count": 34,
   "id": "a9978940-a9a8-4483-a3ef-1e4644009987",
   "metadata": {
    "editable": true,
    "slideshow": {
     "slide_type": ""
    },
    "tags": []
   },
   "outputs": [],
   "source": [
    "events_df = events_df[(events_df['Time'] >= start_time) & (events_df['Time'] <= end_time)]\n",
    "hypno_df = hypno_df[(hypno_df['Start'] >= start_time) & (hypno_df['Start'] <= end_time)]"
   ]
  },
  {
   "cell_type": "code",
   "execution_count": 35,
   "id": "9e88b1a3",
   "metadata": {
    "colab": {
     "base_uri": "https://localhost:8080/"
    },
    "executionInfo": {
     "elapsed": 242,
     "status": "ok",
     "timestamp": 1690731496489,
     "user": {
      "displayName": "Bruno Grbavac",
      "userId": "16503847937335209341"
     },
     "user_tz": -120
    },
    "id": "CfFZ_39rfAkc",
    "outputId": "b8b37e37-4fe1-4e51-fe1c-50e32ea69516"
   },
   "outputs": [],
   "source": [
    "continuous_time_series = pd.DataFrame(pd.date_range(start=start_time, periods = number_of_samples, freq='2ms'), columns=['timestamp'])"
   ]
  },
  {
   "cell_type": "code",
   "execution_count": 36,
   "id": "90d4f767",
   "metadata": {
    "executionInfo": {
     "elapsed": 45820,
     "status": "ok",
     "timestamp": 1690731549793,
     "user": {
      "displayName": "Bruno Grbavac",
      "userId": "16503847937335209341"
     },
     "user_tz": -120
    },
    "id": "owbpQXO07xlu"
   },
   "outputs": [],
   "source": [
    "event_types = getEventTypes()\n",
    "\n",
    "for event_type in event_types:\n",
    "    event_type_rows = events_df[events_df['Type'] == event_type]\n",
    "\n",
    "    for _, row in event_type_rows.iterrows():\n",
    "        start_idx = int((row['Time'] - start_time).total_seconds() * 500)\n",
    "        end_idx = start_idx + int(round(float(row['Duration'].replace(',','.')) * 500))\n",
    "        continuous_time_series.loc[start_idx:end_idx, event_type] = True\n",
    "        \n",
    "    if len(event_type_rows)==0 :\n",
    "        continuous_time_series[event_type] = False\n",
    "\n",
    "continuous_time_series = continuous_time_series.fillna(False)"
   ]
  },
  {
   "cell_type": "code",
   "execution_count": 37,
   "id": "4ed5c062",
   "metadata": {
    "executionInfo": {
     "elapsed": 75779,
     "status": "ok",
     "timestamp": 1690732618352,
     "user": {
      "displayName": "Bruno Grbavac",
      "userId": "16503847937335209341"
     },
     "user_tz": -120
    },
    "id": "879a8486"
   },
   "outputs": [],
   "source": [
    "hypno_df.set_index('Start', inplace=True)\n",
    "new_frequency = '2L'\n",
    "\n",
    "hypno_df_resampled = hypno_df.resample(new_frequency)\n",
    "hypno_df_resampled_interpolated = hypno_df_resampled.interpolate()\n",
    "hypno_df_resampled_interpolated.reset_index(inplace=True)\n",
    "hypno_df_resampled_interpolated['Epoch'] = hypno_df_resampled_interpolated['Epoch'].apply(round)\n",
    "hypno_df_resampled_interpolated['Stage'] = hypno_df_resampled_interpolated['Stage'].apply(round)\n",
    "hypno_df_resampled_interpolated\n",
    "\n",
    "last_hypno_df_row = hypno_df_resampled_interpolated.iloc[-1]"
   ]
  },
  {
   "cell_type": "code",
   "execution_count": 38,
   "id": "84786a96",
   "metadata": {
    "executionInfo": {
     "elapsed": 1775,
     "status": "ok",
     "timestamp": 1690734819035,
     "user": {
      "displayName": "Bruno Grbavac",
      "userId": "16503847937335209341"
     },
     "user_tz": -120
    },
    "id": "vspdXAgr73wa"
   },
   "outputs": [],
   "source": [
    "hypno_df_resampled_interpolated = pd.concat([hypno_df_resampled_interpolated,pd.DataFrame([last_hypno_df_row] * (number_of_samples-len(hypno_df_resampled_interpolated)))], axis=0)"
   ]
  },
  {
   "cell_type": "code",
   "execution_count": 39,
   "id": "7aebc45c",
   "metadata": {
    "executionInfo": {
     "elapsed": 8274,
     "status": "ok",
     "timestamp": 1690734835934,
     "user": {
      "displayName": "Bruno Grbavac",
      "userId": "16503847937335209341"
     },
     "user_tz": -120
    },
    "id": "b9ee811b"
   },
   "outputs": [],
   "source": [
    "signal_to_filter = pd.merge(signal_no_sleep_no_events, hypno_df_resampled_interpolated, left_index=True, right_index=True)\n",
    "signal_to_filter = pd.merge(signal_to_filter, continuous_time_series, left_index=True, right_index=True)\n",
    "signal = signal_to_filter"
   ]
  },
  {
   "cell_type": "code",
   "execution_count": 40,
   "id": "25225aed",
   "metadata": {
    "colab": {
     "background_save": true
    },
    "editable": true,
    "id": "Ei0gxNKUt3lB",
    "slideshow": {
     "slide_type": ""
    },
    "tags": []
   },
   "outputs": [
    {
     "name": "stdout",
     "output_type": "stream",
     "text": [
      "CPU times: total: 0 ns\n",
      "Wall time: 0 ns\n"
     ]
    }
   ],
   "source": [
    "feather.write_feather(signal, root_path + \"signal_sync_EDF.feather\")\n",
    "%time"
   ]
  }
 ],
 "metadata": {
  "celltoolbar": "Tags",
  "colab": {
   "machine_shape": "hm",
   "name": "",
   "provenance": [
    {
     "file_id": "1ol2Ir5lY_pzsXpBg66lm7lz-XmJzDbJG",
     "timestamp": 1690729666607
    }
   ],
   "version": ""
  },
  "kernelspec": {
   "display_name": "Python 3 (ipykernel)",
   "language": "python",
   "name": "python3"
  },
  "language_info": {
   "codemirror_mode": {
    "name": "ipython",
    "version": 3
   },
   "file_extension": ".py",
   "mimetype": "text/x-python",
   "name": "python",
   "nbconvert_exporter": "python",
   "pygments_lexer": "ipython3",
   "version": "3.11.4"
  }
 },
 "nbformat": 4,
 "nbformat_minor": 5
}
