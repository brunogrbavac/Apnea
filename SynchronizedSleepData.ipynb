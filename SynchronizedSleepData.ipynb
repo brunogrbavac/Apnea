{
 "cells": [
  {
   "cell_type": "code",
   "execution_count": 139,
   "id": "13fafaa6",
   "metadata": {
    "editable": true,
    "executionInfo": {
     "elapsed": 263,
     "status": "ok",
     "timestamp": 1690731393284,
     "user": {
      "displayName": "Bruno Grbavac",
      "userId": "16503847937335209341"
     },
     "user_tz": -120
    },
    "id": "iKw0rfKE3gg_",
    "slideshow": {
     "slide_type": ""
    },
    "tags": [
     "parameters"
    ]
   },
   "outputs": [],
   "source": [
    "#parameters\n",
    "\n",
    "root_path=\"C:\\\\Users\\\\bruno\\\\Desktop\\\\Diplomski\\\\ \\\\\""
   ]
  },
  {
   "cell_type": "code",
   "execution_count": 140,
   "id": "6e561e2a",
   "metadata": {
    "executionInfo": {
     "elapsed": 3336,
     "status": "ok",
     "timestamp": 1690731414084,
     "user": {
      "displayName": "Bruno Grbavac",
      "userId": "16503847937335209341"
     },
     "user_tz": -120
    },
    "id": "ca63a5b0",
    "tags": []
   },
   "outputs": [],
   "source": [
    "import pandas as pd\n",
    "import numpy as np\n",
    "import csv\n",
    "import mne\n",
    "from scipy.signal import find_peaks\n",
    "from matplotlib import pyplot as plt, dates as mdates\n",
    "import math\n",
    "from datetime import datetime, timedelta, time\n",
    "import pyarrow.feather as feather\n",
    "from getEventTypes import getEventTypes"
   ]
  },
  {
   "cell_type": "code",
   "execution_count": 141,
   "id": "ca8ad199-07ee-46cc-9118-f5bc4612cd5a",
   "metadata": {},
   "outputs": [],
   "source": [
    "edf_path = root_path + \"edf_signals.edf\"\n",
    "hypnogram_path = root_path + \"csv_hypnogram.csv\"\n",
    "events_path = root_path + \"csv_events.csv\""
   ]
  },
  {
   "cell_type": "code",
   "execution_count": 142,
   "id": "743be7cb",
   "metadata": {
    "colab": {
     "base_uri": "https://localhost:8080/"
    },
    "executionInfo": {
     "elapsed": 39583,
     "status": "ok",
     "timestamp": 1690733142155,
     "user": {
      "displayName": "Bruno Grbavac",
      "userId": "16503847937335209341"
     },
     "user_tz": -120
    },
    "id": "9eddc5d5",
    "outputId": "2ab31eb8-26c4-4af5-c879-38e1d05cf9ac",
    "tags": []
   },
   "outputs": [
    {
     "name": "stdout",
     "output_type": "stream",
     "text": [
      "Extracting EDF parameters from C:\\Users\\bruno\\Desktop\\Diplomski\\38011513_B\\edf_signals.edf...\n",
      "EDF file detected\n",
      "Setting channel info structure...\n",
      "Creating raw.info structure...\n",
      "Reading 0 ... 899999  =      0.000 ...  1799.998 secs...\n"
     ]
    },
    {
     "name": "stderr",
     "output_type": "stream",
     "text": [
      "C:\\Users\\bruno\\AppData\\Local\\Temp\\ipykernel_21192\\1101522725.py:1: RuntimeWarning: Channel names are not unique, found duplicates for: {'Flow Patient'}. Applying running numbers for duplicates.\n",
      "  data = mne.io.read_raw_edf(edf_path, preload=True)\n"
     ]
    }
   ],
   "source": [
    "data = mne.io.read_raw_edf(edf_path, preload=True)\n",
    "\n",
    "data_raw = data.get_data()\n",
    "data_info = data.info\n",
    "data_channels = data.ch_names"
   ]
  },
  {
   "cell_type": "code",
   "execution_count": 143,
   "id": "0e83e1da",
   "metadata": {
    "executionInfo": {
     "elapsed": 2,
     "status": "ok",
     "timestamp": 1690733142414,
     "user": {
      "displayName": "Bruno Grbavac",
      "userId": "16503847937335209341"
     },
     "user_tz": -120
    },
    "id": "9bFs5Nkq7-3O"
   },
   "outputs": [],
   "source": [
    "signal_no_sleep_no_events = pd.DataFrame(data_raw)\n",
    "\n",
    "signal_no_sleep_no_events = signal_no_sleep_no_events.T\n",
    "signal_no_sleep_no_events.columns = data_channels\n",
    "\n",
    "yesterday = datetime.now() - timedelta(days=1)\n",
    "start_time = data.info['meas_date'].replace(tzinfo=None).replace(year=yesterday.year, month=yesterday.month, day=yesterday.day)\n",
    "end_time = start_time + timedelta(milliseconds=signal_no_sleep_no_events.shape[0]*2)"
   ]
  },
  {
   "cell_type": "code",
   "execution_count": 144,
   "id": "d97129c9",
   "metadata": {
    "colab": {
     "base_uri": "https://localhost:8080/"
    },
    "executionInfo": {
     "elapsed": 246,
     "status": "ok",
     "timestamp": 1690733164112,
     "user": {
      "displayName": "Bruno Grbavac",
      "userId": "16503847937335209341"
     },
     "user_tz": -120
    },
    "id": "iGl-_pHJi9G1",
    "outputId": "337e5358-183a-4cc2-d9de-242e5552ff1e"
   },
   "outputs": [
    {
     "data": {
      "text/plain": [
       "900000"
      ]
     },
     "execution_count": 144,
     "metadata": {},
     "output_type": "execute_result"
    }
   ],
   "source": [
    "number_of_samples = signal_no_sleep_no_events.shape[0]\n",
    "number_of_samples"
   ]
  },
  {
   "cell_type": "code",
   "execution_count": 145,
   "id": "16395632",
   "metadata": {
    "executionInfo": {
     "elapsed": 325,
     "status": "ok",
     "timestamp": 1690731488537,
     "user": {
      "displayName": "Bruno Grbavac",
      "userId": "16503847937335209341"
     },
     "user_tz": -120
    },
    "id": "433a16d0"
   },
   "outputs": [],
   "source": [
    "def shiftTimestampToYesterday(value):\n",
    "    noon = time(12, 0)\n",
    "    if(noon<value.time()):\n",
    "        return value - timedelta(days=1)\n",
    "    else:\n",
    "        return value"
   ]
  },
  {
   "cell_type": "code",
   "execution_count": 174,
   "id": "4567674b-7fab-4539-9909-fce40e33e8df",
   "metadata": {},
   "outputs": [
    {
     "name": "stderr",
     "output_type": "stream",
     "text": [
      "C:\\Users\\bruno\\AppData\\Local\\Temp\\ipykernel_21192\\553362753.py:12: UserWarning: Could not infer format, so each element will be parsed individually, falling back to `dateutil`. To ensure parsing is consistent and as-expected, please specify a format.\n",
      "  events_df['Time'] = pd.to_datetime(events_df['Time'])\n"
     ]
    }
   ],
   "source": [
    "hypno_df = pd.read_csv(hypnogram_path)\n",
    "events_df = pd.read_csv(events_path, sep=';')\n",
    "\n",
    "SleepPhases = {\n",
    "    'WK' : 0,\n",
    "    'N1' : 1,\n",
    "    'N2' : 2,\n",
    "    'N3' : 3,\n",
    "    'REM' : 4}\n",
    "\n",
    "hypno_df['Sleep Stage Int'] = hypno_df['Sleep Stage'].map(SleepPhases.get)\n",
    "events_df['Time'] = pd.to_datetime(events_df['Time'])\n",
    "events_df['Time'] = events_df['Time'].apply(shiftTimestampToYesterday) "
   ]
  },
  {
   "cell_type": "code",
   "execution_count": 175,
   "id": "058e6158",
   "metadata": {
    "executionInfo": {
     "elapsed": 266,
     "status": "ok",
     "timestamp": 1690732534873,
     "user": {
      "displayName": "Bruno Grbavac",
      "userId": "16503847937335209341"
     },
     "user_tz": -120
    },
    "id": "cab1e50b"
   },
   "outputs": [
    {
     "name": "stderr",
     "output_type": "stream",
     "text": [
      "C:\\Users\\bruno\\AppData\\Local\\Temp\\ipykernel_21192\\1060567551.py:2: UserWarning: Could not infer format, so each element will be parsed individually, falling back to `dateutil`. To ensure parsing is consistent and as-expected, please specify a format.\n",
      "  hypno_df['Start'] = pd.to_datetime(hypno_df['Start'])\n"
     ]
    }
   ],
   "source": [
    "hypno_df.rename(columns={' Epoch Number ':'Epoch','Sleep Stage Int': 'Stage','Sleep Stage': 'Stage Name' , 'Start Time ':'Start'}, inplace=True)\n",
    "hypno_df['Start'] = pd.to_datetime(hypno_df['Start'])\n",
    "hypno_df['Epoch'] = hypno_df['Epoch'].astype(int)\n",
    "hypno_df['Start'] = hypno_df['Start'].apply(shiftTimestampToYesterday)\n",
    "hypno_df = hypno_df.sort_values(by=['Start'])"
   ]
  },
  {
   "cell_type": "code",
   "execution_count": 176,
   "id": "a9978940-a9a8-4483-a3ef-1e4644009987",
   "metadata": {},
   "outputs": [],
   "source": [
    "events_df = events_df[(events_df['Time'] >= start_time) & (events_df['Time'] <= end_time)]\n",
    "hypno_df = hypno_df[(hypno_df['Start'] >= start_time) & (hypno_df['Start'] <= end_time)]\n"
   ]
  },
  {
   "cell_type": "code",
   "execution_count": 177,
   "id": "9e88b1a3",
   "metadata": {
    "colab": {
     "base_uri": "https://localhost:8080/"
    },
    "executionInfo": {
     "elapsed": 242,
     "status": "ok",
     "timestamp": 1690731496489,
     "user": {
      "displayName": "Bruno Grbavac",
      "userId": "16503847937335209341"
     },
     "user_tz": -120
    },
    "id": "CfFZ_39rfAkc",
    "outputId": "b8b37e37-4fe1-4e51-fe1c-50e32ea69516"
   },
   "outputs": [
    {
     "data": {
      "text/html": [
       "<div>\n",
       "<style scoped>\n",
       "    .dataframe tbody tr th:only-of-type {\n",
       "        vertical-align: middle;\n",
       "    }\n",
       "\n",
       "    .dataframe tbody tr th {\n",
       "        vertical-align: top;\n",
       "    }\n",
       "\n",
       "    .dataframe thead th {\n",
       "        text-align: right;\n",
       "    }\n",
       "</style>\n",
       "<table border=\"1\" class=\"dataframe\">\n",
       "  <thead>\n",
       "    <tr style=\"text-align: right;\">\n",
       "      <th></th>\n",
       "      <th>timestamp</th>\n",
       "    </tr>\n",
       "  </thead>\n",
       "  <tbody>\n",
       "    <tr>\n",
       "      <th>0</th>\n",
       "      <td>2023-08-19 22:00:18.000</td>\n",
       "    </tr>\n",
       "    <tr>\n",
       "      <th>1</th>\n",
       "      <td>2023-08-19 22:00:18.002</td>\n",
       "    </tr>\n",
       "    <tr>\n",
       "      <th>2</th>\n",
       "      <td>2023-08-19 22:00:18.004</td>\n",
       "    </tr>\n",
       "    <tr>\n",
       "      <th>3</th>\n",
       "      <td>2023-08-19 22:00:18.006</td>\n",
       "    </tr>\n",
       "    <tr>\n",
       "      <th>4</th>\n",
       "      <td>2023-08-19 22:00:18.008</td>\n",
       "    </tr>\n",
       "    <tr>\n",
       "      <th>...</th>\n",
       "      <td>...</td>\n",
       "    </tr>\n",
       "    <tr>\n",
       "      <th>899995</th>\n",
       "      <td>2023-08-19 22:30:17.990</td>\n",
       "    </tr>\n",
       "    <tr>\n",
       "      <th>899996</th>\n",
       "      <td>2023-08-19 22:30:17.992</td>\n",
       "    </tr>\n",
       "    <tr>\n",
       "      <th>899997</th>\n",
       "      <td>2023-08-19 22:30:17.994</td>\n",
       "    </tr>\n",
       "    <tr>\n",
       "      <th>899998</th>\n",
       "      <td>2023-08-19 22:30:17.996</td>\n",
       "    </tr>\n",
       "    <tr>\n",
       "      <th>899999</th>\n",
       "      <td>2023-08-19 22:30:17.998</td>\n",
       "    </tr>\n",
       "  </tbody>\n",
       "</table>\n",
       "<p>900000 rows × 1 columns</p>\n",
       "</div>"
      ],
      "text/plain": [
       "                     timestamp\n",
       "0      2023-08-19 22:00:18.000\n",
       "1      2023-08-19 22:00:18.002\n",
       "2      2023-08-19 22:00:18.004\n",
       "3      2023-08-19 22:00:18.006\n",
       "4      2023-08-19 22:00:18.008\n",
       "...                        ...\n",
       "899995 2023-08-19 22:30:17.990\n",
       "899996 2023-08-19 22:30:17.992\n",
       "899997 2023-08-19 22:30:17.994\n",
       "899998 2023-08-19 22:30:17.996\n",
       "899999 2023-08-19 22:30:17.998\n",
       "\n",
       "[900000 rows x 1 columns]"
      ]
     },
     "execution_count": 177,
     "metadata": {},
     "output_type": "execute_result"
    }
   ],
   "source": [
    "continuous_time_series = pd.DataFrame(pd.date_range(start=start_time, periods = number_of_samples, freq='2ms'), columns=['timestamp'])\n",
    "continuous_time_series"
   ]
  },
  {
   "cell_type": "code",
   "execution_count": 178,
   "id": "5be4958a-6592-4083-b2cd-9c3e513dd8e6",
   "metadata": {},
   "outputs": [
    {
     "data": {
      "text/html": [
       "<div>\n",
       "<style scoped>\n",
       "    .dataframe tbody tr th:only-of-type {\n",
       "        vertical-align: middle;\n",
       "    }\n",
       "\n",
       "    .dataframe tbody tr th {\n",
       "        vertical-align: top;\n",
       "    }\n",
       "\n",
       "    .dataframe thead th {\n",
       "        text-align: right;\n",
       "    }\n",
       "</style>\n",
       "<table border=\"1\" class=\"dataframe\">\n",
       "  <thead>\n",
       "    <tr style=\"text-align: right;\">\n",
       "      <th></th>\n",
       "      <th>Type</th>\n",
       "      <th>Stage</th>\n",
       "      <th>Time</th>\n",
       "      <th>Epoch</th>\n",
       "      <th>Duration</th>\n",
       "      <th>Body Position</th>\n",
       "      <th>Validation</th>\n",
       "    </tr>\n",
       "  </thead>\n",
       "  <tbody>\n",
       "    <tr>\n",
       "      <th>144</th>\n",
       "      <td>Snore</td>\n",
       "      <td>N2</td>\n",
       "      <td>2023-08-19 23:00:16</td>\n",
       "      <td>120</td>\n",
       "      <td>7,0</td>\n",
       "      <td>Left</td>\n",
       "      <td>Not Validated</td>\n",
       "    </tr>\n",
       "  </tbody>\n",
       "</table>\n",
       "</div>"
      ],
      "text/plain": [
       "      Type Stage                Time  Epoch Duration Body Position  \\\n",
       "144  Snore    N2 2023-08-19 23:00:16    120      7,0          Left   \n",
       "\n",
       "        Validation  \n",
       "144  Not Validated  "
      ]
     },
     "execution_count": 178,
     "metadata": {},
     "output_type": "execute_result"
    }
   ],
   "source": [
    "events_df[events_df['Type']=='Snore']"
   ]
  },
  {
   "cell_type": "code",
   "execution_count": 149,
   "id": "90d4f767",
   "metadata": {
    "executionInfo": {
     "elapsed": 45820,
     "status": "ok",
     "timestamp": 1690731549793,
     "user": {
      "displayName": "Bruno Grbavac",
      "userId": "16503847937335209341"
     },
     "user_tz": -120
    },
    "id": "owbpQXO07xlu"
   },
   "outputs": [],
   "source": [
    "event_types = getEventTypes()\n",
    "\n",
    "for event_type in event_types:\n",
    "    event_type_rows = events_df[events_df['Type'] == event_type]\n",
    "\n",
    "    for _, row in event_type_rows.iterrows():\n",
    "        start_idx = int((row['Time'] - start_time).total_seconds() * 500)\n",
    "        end_idx = start_idx + int(round(float(row['Duration'].replace(',','.')) * 500))\n",
    "        continuous_time_series.loc[start_idx:end_idx, event_type] = True\n",
    "        \n",
    "    if len(event_type_rows)==0 :\n",
    "        continuous_time_series[event_type] = False\n",
    "\n",
    "continuous_time_series = continuous_time_series.fillna(False)"
   ]
  },
  {
   "cell_type": "code",
   "execution_count": 151,
   "id": "4ed5c062",
   "metadata": {
    "executionInfo": {
     "elapsed": 75779,
     "status": "ok",
     "timestamp": 1690732618352,
     "user": {
      "displayName": "Bruno Grbavac",
      "userId": "16503847937335209341"
     },
     "user_tz": -120
    },
    "id": "879a8486"
   },
   "outputs": [],
   "source": [
    "hypno_df.set_index('Start', inplace=True)\n",
    "new_frequency = '2L'\n",
    "\n",
    "hypno_df_resampled = hypno_df.resample(new_frequency)\n",
    "hypno_df_resampled_interpolated = hypno_df_resampled.interpolate()\n",
    "hypno_df_resampled_interpolated.reset_index(inplace=True)\n",
    "hypno_df_resampled_interpolated['Epoch'] = hypno_df_resampled_interpolated['Epoch'].apply(round)\n",
    "hypno_df_resampled_interpolated['Stage'] = hypno_df_resampled_interpolated['Stage'].apply(round)\n",
    "hypno_df_resampled_interpolated\n",
    "\n",
    "last_hypno_df_row = hypno_df_resampled_interpolated.iloc[-1]"
   ]
  },
  {
   "cell_type": "code",
   "execution_count": 152,
   "id": "84786a96",
   "metadata": {
    "executionInfo": {
     "elapsed": 1775,
     "status": "ok",
     "timestamp": 1690734819035,
     "user": {
      "displayName": "Bruno Grbavac",
      "userId": "16503847937335209341"
     },
     "user_tz": -120
    },
    "id": "vspdXAgr73wa"
   },
   "outputs": [],
   "source": [
    "hypno_df_resampled_interpolated = pd.concat([hypno_df_resampled_interpolated,pd.DataFrame([last_hypno_df_row] * (number_of_samples-len(hypno_df_resampled_interpolated)))], axis=0)"
   ]
  },
  {
   "cell_type": "code",
   "execution_count": 154,
   "id": "7aebc45c",
   "metadata": {
    "executionInfo": {
     "elapsed": 8274,
     "status": "ok",
     "timestamp": 1690734835934,
     "user": {
      "displayName": "Bruno Grbavac",
      "userId": "16503847937335209341"
     },
     "user_tz": -120
    },
    "id": "b9ee811b"
   },
   "outputs": [
    {
     "data": {
      "text/plain": [
       "Index(['EOG LOC-A2', 'EOG ROC-A2', 'EEG F3-A2', 'EEG F4-A1', 'EEG A1-A2',\n",
       "       'EEG C3-A2', 'EEG C4-A1', 'EEG O1-A2', 'EEG O2-A1', 'EMG Chin',\n",
       "       'Flow Patient-0', 'Flow Patient-1', 'Snore_x', 'Effort THO',\n",
       "       'Effort ABD', 'SpO2', 'PulseRate', 'ECG I', 'Leg 1', 'Leg 2', 'Body',\n",
       "       'Start', 'Epoch', 'Stage Name', 'Stage', 'timestamp',\n",
       "       'Absolute Desaturation', 'Arousal', 'Bradycardia', 'Central Apnea',\n",
       "       'Hypopnea', 'Leg Movement', 'Long RR', 'Mixed Apnea',\n",
       "       'Obstructive Apnea', 'PTT Drop', 'Periodic Respiration',\n",
       "       'Relative Desaturation', 'Snore_y', 'Tachycardia'],\n",
       "      dtype='object')"
      ]
     },
     "metadata": {},
     "output_type": "display_data"
    }
   ],
   "source": [
    "signal_to_filter = pd.merge(signal_no_sleep_no_events, hypno_df_resampled_interpolated, left_index=True, right_index=True)\n",
    "signal_to_filter = pd.merge(signal_to_filter, continuous_time_series, left_index=True, right_index=True)\n",
    "signal = signal_to_filter"
   ]
  },
  {
   "cell_type": "code",
   "execution_count": 155,
   "id": "25225aed",
   "metadata": {
    "colab": {
     "background_save": true
    },
    "id": "Ei0gxNKUt3lB"
   },
   "outputs": [
    {
     "name": "stdout",
     "output_type": "stream",
     "text": [
      "CPU times: total: 0 ns\n",
      "Wall time: 0 ns\n"
     ]
    }
   ],
   "source": [
    "feather.write_feather(signal, root_path + \"signal.feather\")\n",
    "%time"
   ]
  },
  {
   "cell_type": "code",
   "execution_count": 156,
   "id": "f03dc137",
   "metadata": {
    "executionInfo": {
     "elapsed": 279,
     "status": "ok",
     "timestamp": 1690734848653,
     "user": {
      "displayName": "Bruno Grbavac",
      "userId": "16503847937335209341"
     },
     "user_tz": -120
    },
    "id": "2d93cc5c"
   },
   "outputs": [],
   "source": [
    "saturation = signal['SpO2']"
   ]
  },
  {
   "cell_type": "code",
   "execution_count": 157,
   "id": "2612d91a",
   "metadata": {
    "executionInfo": {
     "elapsed": 1614,
     "status": "ok",
     "timestamp": 1690734989569,
     "user": {
      "displayName": "Bruno Grbavac",
      "userId": "16503847937335209341"
     },
     "user_tz": -120
    },
    "id": "50d48423",
    "scrolled": true
   },
   "outputs": [],
   "source": [
    "x = saturation\n",
    "peaks2, _ = find_peaks(x, prominence=2)      # BEST!\n",
    "local_minimum_indices, _ = find_peaks(-x, prominence=2)\n",
    "local_maximum_indices, _ = find_peaks(x, prominence=2)"
   ]
  },
  {
   "cell_type": "code",
   "execution_count": 158,
   "id": "a86e3c39",
   "metadata": {
    "executionInfo": {
     "elapsed": 542,
     "status": "ok",
     "timestamp": 1690734991352,
     "user": {
      "displayName": "Bruno Grbavac",
      "userId": "16503847937335209341"
     },
     "user_tz": -120
    },
    "id": "381a071e"
   },
   "outputs": [],
   "source": [
    "local_minimum_values = x[local_minimum_indices]\n",
    "local_maximum_values = x[local_maximum_indices]\n",
    "differences = []\n",
    "for min_val, min_idx in zip(local_minimum_values, local_minimum_indices):\n",
    "    for max_val, max_idx in zip(local_maximum_values, local_maximum_indices):\n",
    "        if max_idx > min_idx:\n",
    "            differences.append(max_val - min_val)"
   ]
  },
  {
   "cell_type": "code",
   "execution_count": 159,
   "id": "fd4ef968",
   "metadata": {
    "executionInfo": {
     "elapsed": 373,
     "status": "ok",
     "timestamp": 1690735001702,
     "user": {
      "displayName": "Bruno Grbavac",
      "userId": "16503847937335209341"
     },
     "user_tz": -120
    },
    "id": "e92ca478"
   },
   "outputs": [],
   "source": [
    "df = pd.DataFrame(differences)"
   ]
  },
  {
   "cell_type": "code",
   "execution_count": null,
   "id": "1673b2a0",
   "metadata": {
    "colab": {
     "base_uri": "https://localhost:8080/",
     "height": 424
    },
    "executionInfo": {
     "elapsed": 7,
     "status": "ok",
     "timestamp": 1690735008596,
     "user": {
      "displayName": "Bruno Grbavac",
      "userId": "16503847937335209341"
     },
     "user_tz": -120
    },
    "id": "9d221f5c",
    "outputId": "127a4330-7646-4cd7-e732-9997effdae04"
   },
   "outputs": [],
   "source": [
    "local_minimum_values = signal.loc[local_minimum_indices]\n",
    "local_maximum_values = signal.loc[local_maximum_indices]\n",
    "connected_pairs = []\n",
    "\n",
    "\n",
    "for i, min_idx in enumerate(local_minimum_indices):\n",
    "    if(len(local_maximum_indices[local_maximum_indices < min_idx])>0):\n",
    "        max_idx = local_maximum_indices[local_maximum_indices < min_idx][-1]\n",
    "        connected_pairs.append((max_idx, min_idx))\n",
    "\n",
    "differences = []\n",
    "for max_idx, min_idx in connected_pairs:\n",
    "    max_val = x[max_idx]\n",
    "    min_val = x[min_idx]\n",
    "    diff = min_idx - max_idx\n",
    "    differences.append((diff, max_idx, min_idx, max_val, min_val))\n",
    "\n",
    "df = pd.DataFrame(differences, columns=['Index Difference', 'Maximum Index', 'Minimum Index', 'Maximum Value', 'Minimum Value'])\n",
    "df"
   ]
  },
  {
   "cell_type": "code",
   "execution_count": 161,
   "id": "05241f4a",
   "metadata": {
    "executionInfo": {
     "elapsed": 272,
     "status": "ok",
     "timestamp": 1690735015236,
     "user": {
      "displayName": "Bruno Grbavac",
      "userId": "16503847937335209341"
     },
     "user_tz": -120
    },
    "id": "4b1606bb"
   },
   "outputs": [],
   "source": [
    "df2 = df"
   ]
  },
  {
   "cell_type": "code",
   "execution_count": 162,
   "id": "cc927f83",
   "metadata": {
    "executionInfo": {
     "elapsed": 2,
     "status": "ok",
     "timestamp": 1690735016447,
     "user": {
      "displayName": "Bruno Grbavac",
      "userId": "16503847937335209341"
     },
     "user_tz": -120
    },
    "id": "79986593",
    "scrolled": true
   },
   "outputs": [],
   "source": [
    "df2 = df.loc[(df['Index Difference'] >= 5000) & (df['Index Difference'] <= 40000)]"
   ]
  },
  {
   "cell_type": "code",
   "execution_count": 163,
   "id": "debf21bc",
   "metadata": {
    "executionInfo": {
     "elapsed": 3,
     "status": "ok",
     "timestamp": 1690735017557,
     "user": {
      "displayName": "Bruno Grbavac",
      "userId": "16503847937335209341"
     },
     "user_tz": -120
    },
    "id": "1a9a5275",
    "scrolled": true
   },
   "outputs": [],
   "source": [
    "diffDf = df2['Maximum Value'] - df2['Minimum Value']\n",
    "df2 = pd.concat([df2, diffDf], axis=1)\n",
    "df2.columns = [*df2.columns[:-1], 'diff']"
   ]
  },
  {
   "cell_type": "code",
   "execution_count": 164,
   "id": "6c0ae299",
   "metadata": {
    "executionInfo": {
     "elapsed": 376,
     "status": "ok",
     "timestamp": 1690735022178,
     "user": {
      "displayName": "Bruno Grbavac",
      "userId": "16503847937335209341"
     },
     "user_tz": -120
    },
    "id": "5872ce49"
   },
   "outputs": [],
   "source": [
    "df3 = df2.loc[(df2['diff'] >= 3)]"
   ]
  },
  {
   "cell_type": "code",
   "execution_count": 165,
   "id": "99e0b2bf",
   "metadata": {
    "executionInfo": {
     "elapsed": 250,
     "status": "ok",
     "timestamp": 1690735022775,
     "user": {
      "displayName": "Bruno Grbavac",
      "userId": "16503847937335209341"
     },
     "user_tz": -120
    },
    "id": "df927844"
   },
   "outputs": [],
   "source": [
    "zero_values = df3.loc[(df3['Minimum Value'] == 0)]"
   ]
  },
  {
   "cell_type": "code",
   "execution_count": 166,
   "id": "2539986d",
   "metadata": {
    "executionInfo": {
     "elapsed": 3,
     "status": "ok",
     "timestamp": 1690735023617,
     "user": {
      "displayName": "Bruno Grbavac",
      "userId": "16503847937335209341"
     },
     "user_tz": -120
    },
    "id": "e65f99b5",
    "scrolled": true
   },
   "outputs": [],
   "source": [
    "df4 = df3.drop(zero_values.index)"
   ]
  },
  {
   "cell_type": "code",
   "execution_count": 167,
   "id": "2e1addd8",
   "metadata": {
    "executionInfo": {
     "elapsed": 237,
     "status": "ok",
     "timestamp": 1690735035297,
     "user": {
      "displayName": "Bruno Grbavac",
      "userId": "16503847937335209341"
     },
     "user_tz": -120
    },
    "id": "bf7c0ef0"
   },
   "outputs": [],
   "source": [
    "saturation = saturation[saturation!= 0]"
   ]
  },
  {
   "cell_type": "code",
   "execution_count": 168,
   "id": "59e29713",
   "metadata": {
    "executionInfo": {
     "elapsed": 2,
     "status": "ok",
     "timestamp": 1690735036467,
     "user": {
      "displayName": "Bruno Grbavac",
      "userId": "16503847937335209341"
     },
     "user_tz": -120
    },
    "id": "33a00ec2"
   },
   "outputs": [],
   "source": [
    "df4['Index Difference sek'] = df4['Index Difference']/1000"
   ]
  },
  {
   "cell_type": "code",
   "execution_count": null,
   "id": "9ffb879b",
   "metadata": {
    "colab": {
     "base_uri": "https://localhost:8080/",
     "height": 424
    },
    "executionInfo": {
     "elapsed": 333,
     "status": "ok",
     "timestamp": 1690735068313,
     "user": {
      "displayName": "Bruno Grbavac",
      "userId": "16503847937335209341"
     },
     "user_tz": -120
    },
    "id": "knmxz_uxqbyM",
    "outputId": "9d949507-584f-445d-c99a-253da770ac9f"
   },
   "outputs": [],
   "source": [
    "df4"
   ]
  },
  {
   "cell_type": "code",
   "execution_count": 170,
   "id": "af23d82a",
   "metadata": {
    "executionInfo": {
     "elapsed": 242,
     "status": "ok",
     "timestamp": 1690735216344,
     "user": {
      "displayName": "Bruno Grbavac",
      "userId": "16503847937335209341"
     },
     "user_tz": -120
    },
    "id": "7cb6e2d7"
   },
   "outputs": [],
   "source": [
    "def direction_coefficient(row):\n",
    "    dy = row['y2'] - row['y1']\n",
    "    dx = row['x2'] - row['x1']\n",
    "    return (row['y2'] - row['y1']) / (row['x2'] - row['x1'])\n",
    "\n",
    "\n",
    "df = pd.DataFrame({'x1': df4['Maximum Index'],\n",
    "                   'y1': df4['Maximum Value'],\n",
    "                   'x2': df4['Minimum Index'],\n",
    "                   'y2': df4['Minimum Value']})\n",
    "\n",
    "df['slope'] = df.apply(direction_coefficient, axis=1)\n",
    "df['angle_degrees'] = df['slope'].apply(lambda x: math.degrees(x))"
   ]
  },
  {
   "cell_type": "code",
   "execution_count": 171,
   "id": "45a65dab",
   "metadata": {
    "executionInfo": {
     "elapsed": 2,
     "status": "ok",
     "timestamp": 1690735219347,
     "user": {
      "displayName": "Bruno Grbavac",
      "userId": "16503847937335209341"
     },
     "user_tz": -120
    },
    "id": "OMU1qRy1qlyf"
   },
   "outputs": [],
   "source": [
    "df_slope = pd.merge(df4, df, left_index=True, right_index=True)"
   ]
  },
  {
   "cell_type": "code",
   "execution_count": 172,
   "id": "9af26cb6",
   "metadata": {
    "executionInfo": {
     "elapsed": 262,
     "status": "ok",
     "timestamp": 1690735945184,
     "user": {
      "displayName": "Bruno Grbavac",
      "userId": "16503847937335209341"
     },
     "user_tz": -120
    },
    "id": "wFp7sXIxtkwi"
   },
   "outputs": [],
   "source": [
    "feather.write_feather(df_slope, root_path + \"slope.feather\")"
   ]
  },
  {
   "cell_type": "code",
   "execution_count": null,
   "id": "4d4886b5-8338-4c63-a2a5-c44a0663bbf1",
   "metadata": {},
   "outputs": [],
   "source": []
  }
 ],
 "metadata": {
  "celltoolbar": "Tags",
  "colab": {
   "machine_shape": "hm",
   "name": "",
   "provenance": [
    {
     "file_id": "1ol2Ir5lY_pzsXpBg66lm7lz-XmJzDbJG",
     "timestamp": 1690729666607
    }
   ],
   "version": ""
  },
  "kernelspec": {
   "display_name": "Python 3 (ipykernel)",
   "language": "python",
   "name": "python3"
  },
  "language_info": {
   "codemirror_mode": {
    "name": "ipython",
    "version": 3
   },
   "file_extension": ".py",
   "mimetype": "text/x-python",
   "name": "python",
   "nbconvert_exporter": "python",
   "pygments_lexer": "ipython3",
   "version": "3.11.4"
  }
 },
 "nbformat": 4,
 "nbformat_minor": 5
}
