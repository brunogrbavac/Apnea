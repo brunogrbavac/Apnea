{
  "cells": [
    {
      "cell_type": "code",
      "execution_count": null,
      "metadata": {
        "id": "I2GhO8OlsaMd"
      },
      "outputs": [],
      "source": [
        "from google.colab import drive\n",
        "drive.mount('/content/drive')"
      ]
    },
    {
      "cell_type": "code",
      "execution_count": null,
      "metadata": {
        "id": "0o4KP_chpmSF"
      },
      "outputs": [],
      "source": [
        "import numpy as np\n",
        "import pandas as pd\n",
        "import matplotlib.pyplot as plt\n",
        "from sklearn.model_selection import train_test_split\n",
        "from sklearn.preprocessing import MinMaxScaler\n",
        "from tensorflow.keras.models import Sequential\n",
        "from tensorflow.keras.layers import LSTM, Dense, Dropout\n",
        "import pyarrow.feather as feather\n",
        "from sklearn.metrics import mean_squared_error\n",
        "from tensorflow import keras"
      ]
    },
    {
      "cell_type": "code",
      "execution_count": null,
      "metadata": {
        "id": "_MIuvGGf0Cod"
      },
      "outputs": [],
      "source": [
        "edf_path=\"/content/drive/MyDrive/temp/signal_sync_EDF (\""
      ]
    },
    {
      "cell_type": "code",
      "execution_count": null,
      "metadata": {
        "id": "40947232-85be-466c-ae54-4423be99e30f"
      },
      "outputs": [],
      "source": [
        "edf = pd.DataFrame()\n",
        "\n",
        "for i in range (1,23):\n",
        "  path = edf_path + str(i) + ').feather'\n",
        "  edf_temp = feather.read_table(path).to_pandas()\n",
        "  edf_temp['Patient'] = i\n",
        "  edf = pd.concat([edf, edf_temp.iloc[::100,:]])"
      ]
    },
    {
      "cell_type": "code",
      "execution_count": null,
      "metadata": {
        "id": "9mcnz3B_EdtC"
      },
      "outputs": [],
      "source": [
        "edf = edf[edf['SpO2']>20]"
      ]
    },
    {
      "cell_type": "code",
      "execution_count": null,
      "metadata": {
        "id": "s3LmcGh0NUZD"
      },
      "outputs": [],
      "source": [
        "patients = edf['Patient'].unique()"
      ]
    },
    {
      "cell_type": "code",
      "execution_count": null,
      "metadata": {
        "id": "0xhSH-RYDaIq"
      },
      "outputs": [],
      "source": [
        "train_patients, test_patients = train_test_split(patients, test_size=3, random_state=42)"
      ]
    },
    {
      "cell_type": "code",
      "execution_count": null,
      "metadata": {
        "id": "eA6ZKAcnDhDL"
      },
      "outputs": [],
      "source": [
        "def create_dataset(patient_data, look_back=1):\n",
        "    dataX, dataY = [], []\n",
        "    for i in range(len(patient_data)-look_back-1):\n",
        "        dataX.append(patient_data[i:(i+look_back)])\n",
        "        dataY.append(patient_data[i+look_back])\n",
        "    return np.array(dataX), np.array(dataY)\n"
      ]
    },
    {
      "cell_type": "code",
      "execution_count": null,
      "metadata": {
        "id": "93nrPk1EDhn3"
      },
      "outputs": [],
      "source": [
        "look_back = 100\n",
        "scaler = MinMaxScaler(feature_range=(0, 1))"
      ]
    },
    {
      "cell_type": "code",
      "execution_count": null,
      "metadata": {
        "id": "WvDqBQ4oDi6p"
      },
      "outputs": [],
      "source": [
        "train_data = []\n",
        "for p in train_patients:\n",
        "    scaled_data = scaler.fit_transform(edf[edf['Patient'] == p]['SpO2'].values.reshape(-1, 1))\n",
        "    train_data.extend(scaled_data)\n",
        "\n",
        "train_data = np.array(train_data).flatten()\n",
        "trainX, trainY = create_dataset(train_data, look_back)"
      ]
    },
    {
      "cell_type": "code",
      "execution_count": null,
      "metadata": {
        "id": "nQMk-EvUDnUc"
      },
      "outputs": [],
      "source": [
        "trainX = np.reshape(trainX, (trainX.shape[0], 1, trainX.shape[1]))"
      ]
    },
    {
      "cell_type": "code",
      "execution_count": null,
      "metadata": {
        "id": "sxG9b9lLkcrS"
      },
      "outputs": [],
      "source": [
        "keras.utils.set_random_seed(42)"
      ]
    },
    {
      "cell_type": "code",
      "execution_count": null,
      "metadata": {
        "id": "Eh_B_BnjDpMk"
      },
      "outputs": [],
      "source": [
        "model = Sequential()\n",
        "model.add(LSTM(64, input_shape=(1, look_back)))\n",
        "model.add(Dense(1))\n",
        "model.compile(loss='mean_squared_error', optimizer='adam')"
      ]
    },
    {
      "cell_type": "code",
      "execution_count": null,
      "metadata": {
        "id": "qZZM47H7DtxP"
      },
      "outputs": [],
      "source": [
        "model.fit(trainX, trainY, epochs=30, batch_size=2048, verbose=2, validation_split=0.2)"
      ]
    },
    {
      "cell_type": "code",
      "execution_count": null,
      "metadata": {
        "id": "LgNDtQorVTx_"
      },
      "outputs": [],
      "source": [
        "import pickle\n",
        "\n",
        "filename = 'lstm_model_ML_0909BIGGER2.pkl'\n",
        "with open(filename, 'wb') as file:\n",
        "    pickle.dump(model, file)"
      ]
    },
    {
      "cell_type": "code",
      "execution_count": null,
      "metadata": {
        "colab": {
          "background_save": true
        },
        "id": "druHEI4Mdc3_"
      },
      "outputs": [],
      "source": [
        "for p in test_patients:\n",
        "    test_data = edf[edf['Patient'] == p]['SpO2'].values.astype('float32')\n",
        "    scaled_test_data = scaler.fit_transform(test_data.reshape(-1, 1))\n",
        "    testX, _ = create_dataset(scaled_test_data, look_back)\n",
        "\n",
        "    testX = np.reshape(testX, (testX.shape[0], 1, testX.shape[1]))\n",
        "    threshold = int(0.75 * len(testX))\n",
        "    real_values = scaler.inverse_transform(scaled_test_data)\n",
        "\n",
        "    predictions = []\n",
        "    print(len(testX)-threshold)\n",
        "    for i in range(threshold, len(testX), 100):\n",
        "        last_observations = testX[i:i+1]\n",
        "        chunk_predictions = []\n",
        "        for j in range(100):\n",
        "            if i + j >= len(testX):\n",
        "                break\n",
        "            pred = model.predict(last_observations, verbose=None)\n",
        "            pred_inv = scaler.inverse_transform(pred)\n",
        "            chunk_predictions.append(pred_inv[0][0])\n",
        "\n",
        "            last_observations = np.roll(last_observations, -1)\n",
        "            last_observations[0, 0, -1] = pred[0, 0]\n",
        "\n",
        "        predictions.extend(chunk_predictions)\n",
        "\n",
        "    plt.figure(figsize=(100, 60))\n",
        "    plt.plot(real_values, label='Real Values', color='grey', alpha=0.7)\n",
        "    plt.plot(np.arange(threshold + look_back, threshold + look_back + len(predictions)), predictions, label='Predictions', color='lime', alpha=0.7)\n",
        "\n",
        "    plt.title(f'Patient {p}')\n",
        "    plt.legend()\n",
        "\n",
        "    plt.show()\n",
        "    mse = mean_squared_error(real_values[threshold+look_back+1:], predictions)\n",
        "    print(f'MSE: {mse}')"
      ]
    },
    {
      "cell_type": "code",
      "execution_count": null,
      "metadata": {
        "id": "WE-RyRA4Du30"
      },
      "outputs": [],
      "source": [
        "for p in test_patients:\n",
        "    test_data = edf[edf['Patient'] == p]['SpO2'].values.astype('float32')\n",
        "    scaled_test_data = scaler.fit_transform(test_data.reshape(-1, 1))\n",
        "    testX, _ = create_dataset(scaled_test_data, look_back)\n",
        "\n",
        "    testX = np.reshape(testX, (testX.shape[0], 1, testX.shape[1]))\n",
        "    threshold = int(0.8 * len(testX))\n",
        "    real_values = scaler.inverse_transform(scaled_test_data)\n",
        "\n",
        "    predictions = []\n",
        "    lstm_input = testX[:threshold]\n",
        "    last_observations = lstm_input[-1:]\n",
        "\n",
        "    for i in range(threshold, len(testX)):\n",
        "        pred = model.predict(last_observations, verbose=None)\n",
        "        pred_inv = scaler.inverse_transform(pred)\n",
        "        predictions.append(pred_inv[0][0])\n",
        "\n",
        "        last_observations = np.roll(last_observations, -1)\n",
        "        last_observations[0, 0, -1] = pred\n",
        "\n",
        "    # Plotting\n",
        "    plt.figure()\n",
        "    plt.plot(real_values, label='Real Values')\n",
        "    plt.plot(np.arange(threshold + look_back, len(testX) + look_back), predictions, label='Predictions')\n",
        "    plt.title(f'Patient {p}')\n",
        "    plt.legend()\n",
        "    plt.show()\n"
      ]
    },
    {
      "cell_type": "code",
      "execution_count": null,
      "metadata": {
        "id": "piyBTULHdf_m"
      },
      "outputs": [],
      "source": []
    }
  ],
  "metadata": {
    "accelerator": "GPU",
    "colab": {
      "machine_shape": "hm",
      "provenance": []
    },
    "kernelspec": {
      "display_name": "Python 3",
      "name": "python3"
    },
    "language_info": {
      "name": "python"
    }
  },
  "nbformat": 4,
  "nbformat_minor": 0
}