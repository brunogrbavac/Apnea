{
  "nbformat": 4,
  "nbformat_minor": 0,
  "metadata": {
    "colab": {
      "provenance": [],
      "machine_shape": "hm",
      "gpuType": "V100"
    },
    "kernelspec": {
      "name": "python3",
      "display_name": "Python 3"
    },
    "language_info": {
      "name": "python"
    },
    "accelerator": "GPU"
  },
  "cells": [
    {
      "cell_type": "code",
      "execution_count": null,
      "metadata": {
        "id": "I2GhO8OlsaMd",
        "colab": {
          "base_uri": "https://localhost:8080/"
        },
        "outputId": "7414f6f2-39a7-45f1-b5af-2e1bfd0e652b"
      },
      "outputs": [
        {
          "output_type": "stream",
          "name": "stdout",
          "text": [
            "Mounted at /content/drive\n"
          ]
        }
      ],
      "source": [
        "from google.colab import drive\n",
        "drive.mount('/content/drive')"
      ]
    },
    {
      "cell_type": "code",
      "execution_count": null,
      "metadata": {
        "id": "iKw0rfKE3gg_"
      },
      "outputs": [],
      "source": [
        "edf_path=\"/content/drive/MyDrive/temp/signal_sync_EDF (\""
      ]
    },
    {
      "cell_type": "code",
      "source": [
        "import pandas as pd\n",
        "import numpy as np\n",
        "from sklearn.model_selection import train_test_split\n",
        "from sklearn.ensemble import RandomForestClassifier\n",
        "from sklearn.metrics import accuracy_score, confusion_matrix, classification_report\n",
        "from scipy.stats import skew, kurtosis\n",
        "from sklearn.preprocessing import StandardScaler\n",
        "import matplotlib.pyplot as plt\n",
        "import seaborn as sns\n",
        "import pyarrow.feather as feather\n",
        "from imblearn.under_sampling import RandomUnderSampler\n",
        "from xgboost import XGBClassifier\n",
        "import pickle\n",
        "from tensorflow.keras.models import Sequential\n",
        "from tensorflow.keras.layers import Conv1D, Flatten, Dense, MaxPooling1D"
      ],
      "metadata": {
        "id": "0o4KP_chpmSF"
      },
      "execution_count": null,
      "outputs": []
    },
    {
      "cell_type": "code",
      "execution_count": null,
      "metadata": {
        "id": "40947232-85be-466c-ae54-4423be99e30f"
      },
      "outputs": [],
      "source": [
        "edf = pd.DataFrame()\n",
        "\n",
        "for i in range (1,23):\n",
        "  path = edf_path + str(i) + ').feather'\n",
        "  edf_temp = feather.read_table(path).to_pandas()\n",
        "  edf = pd.concat([edf, edf_temp.iloc[::100,:]])"
      ]
    },
    {
      "cell_type": "code",
      "source": [
        "psg_columns=['Snore_x', 'PulseRate','SpO2']\n",
        "\n",
        "# psg_columns=['Snore_x', 'ECG I', 'SpO2', 'PulseRate', 'Leg 1', 'Leg 2', 'Body','EOG LOC-A2', 'EOG ROC-A2', 'EEG F3-A2', 'EEG F4-A1', 'EEG A1-A2', 'EEG C3-A2', 'EEG C4-A1', 'EEG O1-A2', 'EEG O2-A1', 'EMG Chin','Flow Patient-0', 'Flow Patient-1', 'Effort THO', 'Effort ABD']"
      ],
      "metadata": {
        "id": "yv7_e6vvYVVx"
      },
      "execution_count": null,
      "outputs": []
    },
    {
      "cell_type": "code",
      "source": [
        "X = edf[psg_columns]\n",
        "y = edf['Stage']"
      ],
      "metadata": {
        "id": "mla5Vcd30AUt"
      },
      "execution_count": null,
      "outputs": []
    },
    {
      "cell_type": "code",
      "source": [
        "rus = RandomUnderSampler(random_state=42)\n",
        "X_resampled, y_resampled = rus.fit_resample(X, y)"
      ],
      "metadata": {
        "id": "HRKTqRYoLWNh"
      },
      "execution_count": null,
      "outputs": []
    },
    {
      "cell_type": "code",
      "source": [
        "X_scaled  = (X_resampled - X_resampled.min()) / (X_resampled.max() - X_resampled.min())\n",
        "X_scaled = X_scaled.pow(2)\n",
        "X_train, X_test, y_train, y_test = train_test_split(X_scaled, y_resampled, test_size=0.2, random_state=42)"
      ],
      "metadata": {
        "id": "9JIG49gtyt8W"
      },
      "execution_count": null,
      "outputs": []
    },
    {
      "cell_type": "code",
      "source": [
        "def context_window(x, window_size=20):\n",
        "    X_context = []\n",
        "    for i in range(len(x)):\n",
        "        start = max(0, i - window_size)\n",
        "        end = min(len(x), i + window_size + 1)\n",
        "        context = x.iloc[start:end]\n",
        "\n",
        "        context_mean = context.mean().values\n",
        "        context_std = context.std().values\n",
        "\n",
        "        features = np.concatenate([x.iloc[i].values, context_mean, context_std])\n",
        "        X_context.append(features)\n",
        "\n",
        "    return np.array(X_context)\n",
        "\n",
        "X_context = context_window(X_scaled)"
      ],
      "metadata": {
        "id": "U8LWQyeMx434"
      },
      "execution_count": null,
      "outputs": []
    },
    {
      "cell_type": "code",
      "source": [
        "X_train_ctx, X_test_ctx, y_train_ctx, y_test_ctx = train_test_split(X_context, y_resampled, test_size=0.2, random_state=0)"
      ],
      "metadata": {
        "id": "tmp8JrQTMrXx"
      },
      "execution_count": null,
      "outputs": []
    },
    {
      "cell_type": "code",
      "source": [
        "rfCtxClf = RandomForestClassifier(n_estimators=100, random_state=42, n_jobs=-1)\n",
        "rfCtxClf.fit(X_train_ctx, y_train_ctx)"
      ],
      "metadata": {
        "colab": {
          "base_uri": "https://localhost:8080/",
          "height": 75
        },
        "id": "tCb5IYeFQu-8",
        "outputId": "f727822b-73dc-4bda-a3e3-d0cf9ed13ca2"
      },
      "execution_count": null,
      "outputs": [
        {
          "output_type": "execute_result",
          "data": {
            "text/plain": [
              "RandomForestClassifier(n_jobs=-1, random_state=42)"
            ],
            "text/html": [
              "<style>#sk-container-id-1 {color: black;background-color: white;}#sk-container-id-1 pre{padding: 0;}#sk-container-id-1 div.sk-toggleable {background-color: white;}#sk-container-id-1 label.sk-toggleable__label {cursor: pointer;display: block;width: 100%;margin-bottom: 0;padding: 0.3em;box-sizing: border-box;text-align: center;}#sk-container-id-1 label.sk-toggleable__label-arrow:before {content: \"▸\";float: left;margin-right: 0.25em;color: #696969;}#sk-container-id-1 label.sk-toggleable__label-arrow:hover:before {color: black;}#sk-container-id-1 div.sk-estimator:hover label.sk-toggleable__label-arrow:before {color: black;}#sk-container-id-1 div.sk-toggleable__content {max-height: 0;max-width: 0;overflow: hidden;text-align: left;background-color: #f0f8ff;}#sk-container-id-1 div.sk-toggleable__content pre {margin: 0.2em;color: black;border-radius: 0.25em;background-color: #f0f8ff;}#sk-container-id-1 input.sk-toggleable__control:checked~div.sk-toggleable__content {max-height: 200px;max-width: 100%;overflow: auto;}#sk-container-id-1 input.sk-toggleable__control:checked~label.sk-toggleable__label-arrow:before {content: \"▾\";}#sk-container-id-1 div.sk-estimator input.sk-toggleable__control:checked~label.sk-toggleable__label {background-color: #d4ebff;}#sk-container-id-1 div.sk-label input.sk-toggleable__control:checked~label.sk-toggleable__label {background-color: #d4ebff;}#sk-container-id-1 input.sk-hidden--visually {border: 0;clip: rect(1px 1px 1px 1px);clip: rect(1px, 1px, 1px, 1px);height: 1px;margin: -1px;overflow: hidden;padding: 0;position: absolute;width: 1px;}#sk-container-id-1 div.sk-estimator {font-family: monospace;background-color: #f0f8ff;border: 1px dotted black;border-radius: 0.25em;box-sizing: border-box;margin-bottom: 0.5em;}#sk-container-id-1 div.sk-estimator:hover {background-color: #d4ebff;}#sk-container-id-1 div.sk-parallel-item::after {content: \"\";width: 100%;border-bottom: 1px solid gray;flex-grow: 1;}#sk-container-id-1 div.sk-label:hover label.sk-toggleable__label {background-color: #d4ebff;}#sk-container-id-1 div.sk-serial::before {content: \"\";position: absolute;border-left: 1px solid gray;box-sizing: border-box;top: 0;bottom: 0;left: 50%;z-index: 0;}#sk-container-id-1 div.sk-serial {display: flex;flex-direction: column;align-items: center;background-color: white;padding-right: 0.2em;padding-left: 0.2em;position: relative;}#sk-container-id-1 div.sk-item {position: relative;z-index: 1;}#sk-container-id-1 div.sk-parallel {display: flex;align-items: stretch;justify-content: center;background-color: white;position: relative;}#sk-container-id-1 div.sk-item::before, #sk-container-id-1 div.sk-parallel-item::before {content: \"\";position: absolute;border-left: 1px solid gray;box-sizing: border-box;top: 0;bottom: 0;left: 50%;z-index: -1;}#sk-container-id-1 div.sk-parallel-item {display: flex;flex-direction: column;z-index: 1;position: relative;background-color: white;}#sk-container-id-1 div.sk-parallel-item:first-child::after {align-self: flex-end;width: 50%;}#sk-container-id-1 div.sk-parallel-item:last-child::after {align-self: flex-start;width: 50%;}#sk-container-id-1 div.sk-parallel-item:only-child::after {width: 0;}#sk-container-id-1 div.sk-dashed-wrapped {border: 1px dashed gray;margin: 0 0.4em 0.5em 0.4em;box-sizing: border-box;padding-bottom: 0.4em;background-color: white;}#sk-container-id-1 div.sk-label label {font-family: monospace;font-weight: bold;display: inline-block;line-height: 1.2em;}#sk-container-id-1 div.sk-label-container {text-align: center;}#sk-container-id-1 div.sk-container {/* jupyter's `normalize.less` sets `[hidden] { display: none; }` but bootstrap.min.css set `[hidden] { display: none !important; }` so we also need the `!important` here to be able to override the default hidden behavior on the sphinx rendered scikit-learn.org. See: https://github.com/scikit-learn/scikit-learn/issues/21755 */display: inline-block !important;position: relative;}#sk-container-id-1 div.sk-text-repr-fallback {display: none;}</style><div id=\"sk-container-id-1\" class=\"sk-top-container\"><div class=\"sk-text-repr-fallback\"><pre>RandomForestClassifier(n_jobs=-1, random_state=42)</pre><b>In a Jupyter environment, please rerun this cell to show the HTML representation or trust the notebook. <br />On GitHub, the HTML representation is unable to render, please try loading this page with nbviewer.org.</b></div><div class=\"sk-container\" hidden><div class=\"sk-item\"><div class=\"sk-estimator sk-toggleable\"><input class=\"sk-toggleable__control sk-hidden--visually\" id=\"sk-estimator-id-1\" type=\"checkbox\" checked><label for=\"sk-estimator-id-1\" class=\"sk-toggleable__label sk-toggleable__label-arrow\">RandomForestClassifier</label><div class=\"sk-toggleable__content\"><pre>RandomForestClassifier(n_jobs=-1, random_state=42)</pre></div></div></div></div></div>"
            ]
          },
          "metadata": {},
          "execution_count": 11
        }
      ]
    },
    {
      "cell_type": "code",
      "source": [
        "y_pred = rfCtxClf.predict(X_test_ctx)\n",
        "print(\"Točnost: \", accuracy_score(y_test_ctx, y_pred))\n",
        "print(confusion_matrix(y_test_ctx, y_pred))\n",
        "print(classification_report(y_test_ctx, y_pred))"
      ],
      "metadata": {
        "colab": {
          "base_uri": "https://localhost:8080/"
        },
        "id": "zbhj7oaBQoX7",
        "outputId": "f78796b2-85e7-4477-fe5e-6e84382a186b"
      },
      "execution_count": null,
      "outputs": [
        {
          "output_type": "stream",
          "name": "stdout",
          "text": [
            "Točnost:  0.9669022717195691\n",
            "[[15127   241     6     0    23]\n",
            " [  275 14722   470     0    19]\n",
            " [    5   433 14388     0   457]\n",
            " [    0     1     4 15226     3]\n",
            " [   32    24   545     0 14681]]\n",
            "              precision    recall  f1-score   support\n",
            "\n",
            "           0       0.98      0.98      0.98     15397\n",
            "           1       0.95      0.95      0.95     15486\n",
            "           2       0.93      0.94      0.94     15283\n",
            "           3       1.00      1.00      1.00     15234\n",
            "           4       0.97      0.96      0.96     15282\n",
            "\n",
            "    accuracy                           0.97     76682\n",
            "   macro avg       0.97      0.97      0.97     76682\n",
            "weighted avg       0.97      0.97      0.97     76682\n",
            "\n"
          ]
        }
      ]
    },
    {
      "cell_type": "code",
      "source": [
        "filename = 'rfCtx_sleep_phase_model-0709-Less.pkl'\n",
        "with open(filename, 'wb') as file:\n",
        "    pickle.dump(rfCtxClf, file)"
      ],
      "metadata": {
        "id": "A1B2go_94fCc"
      },
      "execution_count": null,
      "outputs": []
    },
    {
      "cell_type": "code",
      "source": [
        "def reshape_data_conv(x_in, y_in, look_back=20):\n",
        "    X, y = [], []\n",
        "    for i in range(look_back, len(x_in) - look_back):\n",
        "        X.append(x_in.iloc[i - look_back:i + 1].values)\n",
        "        y.append(y_in.iloc[i])\n",
        "    return np.array(X), np.array(y)\n",
        "\n",
        "look_back = 20\n",
        "X_conv, y_conv = reshape_data_conv(X_scaled, y_resampled, look_back)\n",
        "X_train_conv, X_test_conv, y_train_conv, y_test_conv = train_test_split(X_conv, y_conv, test_size=0.2, random_state=42)"
      ],
      "metadata": {
        "id": "zxrYazKR6aZv"
      },
      "execution_count": null,
      "outputs": []
    },
    {
      "cell_type": "code",
      "source": [
        "n_features=len(psg_columns)\n",
        "input_shape = ( look_back + 1, n_features)\n",
        "num_classes = 5"
      ],
      "metadata": {
        "id": "xGi-l14CAD8a"
      },
      "execution_count": null,
      "outputs": []
    },
    {
      "cell_type": "code",
      "source": [
        "model = Sequential()\n",
        "\n",
        "model.add(Conv1D(filters=64, kernel_size=4, activation='relu', input_shape=input_shape))\n",
        "model.add(MaxPooling1D(pool_size=2))\n",
        "\n",
        "model.add(Conv1D(filters=32, kernel_size=4, activation='relu'))\n",
        "model.add(MaxPooling1D(pool_size=2))\n",
        "\n",
        "model.add(Flatten())\n",
        "\n",
        "model.add(Dense(128, activation='relu'))\n",
        "model.add(Dense(num_classes, activation='softmax'))\n",
        "\n",
        "model.compile(optimizer='adam', loss='sparse_categorical_crossentropy',  metrics=['accuracy'])\n",
        "\n",
        "model.summary()"
      ],
      "metadata": {
        "colab": {
          "base_uri": "https://localhost:8080/"
        },
        "id": "851qxnTe_vzO",
        "outputId": "ffc4ac0f-9d5f-463b-d49e-3e3d8669bea0"
      },
      "execution_count": null,
      "outputs": [
        {
          "output_type": "stream",
          "name": "stdout",
          "text": [
            "Model: \"sequential\"\n",
            "_________________________________________________________________\n",
            " Layer (type)                Output Shape              Param #   \n",
            "=================================================================\n",
            " conv1d (Conv1D)             (None, 18, 64)            832       \n",
            "                                                                 \n",
            " max_pooling1d (MaxPooling1D  (None, 9, 64)            0         \n",
            " )                                                               \n",
            "                                                                 \n",
            " conv1d_1 (Conv1D)           (None, 6, 32)             8224      \n",
            "                                                                 \n",
            " max_pooling1d_1 (MaxPooling  (None, 3, 32)            0         \n",
            " 1D)                                                             \n",
            "                                                                 \n",
            " flatten (Flatten)           (None, 96)                0         \n",
            "                                                                 \n",
            " dense (Dense)               (None, 128)               12416     \n",
            "                                                                 \n",
            " dense_1 (Dense)             (None, 5)                 645       \n",
            "                                                                 \n",
            "=================================================================\n",
            "Total params: 22,117\n",
            "Trainable params: 22,117\n",
            "Non-trainable params: 0\n",
            "_________________________________________________________________\n"
          ]
        }
      ]
    },
    {
      "cell_type": "code",
      "source": [
        "import tensorflow as tf\n",
        "tf.config.run_functions_eagerly(True)\n",
        "model.fit(X_train_conv, y_train_conv, epochs=20, batch_size=32, validation_split=0.2)"
      ],
      "metadata": {
        "colab": {
          "base_uri": "https://localhost:8080/"
        },
        "id": "i8Rw8a3f6lwd",
        "outputId": "34ee2827-3123-47ee-c15a-e8b2aaf199f7"
      },
      "execution_count": null,
      "outputs": [
        {
          "output_type": "stream",
          "name": "stdout",
          "text": [
            "Epoch 1/20\n",
            "7668/7668 [==============================] - 352s 46ms/step - loss: 0.3848 - accuracy: 0.8419 - val_loss: 0.3194 - val_accuracy: 0.8721\n",
            "Epoch 2/20\n",
            "7668/7668 [==============================] - 354s 46ms/step - loss: 0.2972 - accuracy: 0.8815 - val_loss: 0.2955 - val_accuracy: 0.8836\n",
            "Epoch 3/20\n",
            "7668/7668 [==============================] - 365s 48ms/step - loss: 0.2702 - accuracy: 0.8939 - val_loss: 0.2614 - val_accuracy: 0.8984\n",
            "Epoch 4/20\n",
            "7668/7668 [==============================] - 359s 47ms/step - loss: 0.2531 - accuracy: 0.9006 - val_loss: 0.2261 - val_accuracy: 0.9138\n",
            "Epoch 5/20\n",
            "7668/7668 [==============================] - 357s 47ms/step - loss: 0.2382 - accuracy: 0.9068 - val_loss: 0.2661 - val_accuracy: 0.8968\n",
            "Epoch 6/20\n",
            "7668/7668 [==============================] - 353s 46ms/step - loss: 0.2274 - accuracy: 0.9113 - val_loss: 0.2191 - val_accuracy: 0.9159\n",
            "Epoch 7/20\n",
            "7668/7668 [==============================] - 357s 47ms/step - loss: 0.2176 - accuracy: 0.9155 - val_loss: 0.2242 - val_accuracy: 0.9133\n",
            "Epoch 8/20\n",
            "7668/7668 [==============================] - 359s 47ms/step - loss: 0.2108 - accuracy: 0.9177 - val_loss: 0.2013 - val_accuracy: 0.9224\n",
            "Epoch 9/20\n",
            "7668/7668 [==============================] - 356s 46ms/step - loss: 0.2051 - accuracy: 0.9202 - val_loss: 0.2131 - val_accuracy: 0.9167\n",
            "Epoch 10/20\n",
            "7668/7668 [==============================] - 354s 46ms/step - loss: 0.1993 - accuracy: 0.9229 - val_loss: 0.2155 - val_accuracy: 0.9181\n",
            "Epoch 11/20\n",
            "7668/7668 [==============================] - 346s 45ms/step - loss: 0.1939 - accuracy: 0.9242 - val_loss: 0.1958 - val_accuracy: 0.9253\n",
            "Epoch 12/20\n",
            "7668/7668 [==============================] - 349s 45ms/step - loss: 0.1888 - accuracy: 0.9263 - val_loss: 0.1889 - val_accuracy: 0.9287\n",
            "Epoch 13/20\n",
            "7668/7668 [==============================] - 358s 47ms/step - loss: 0.1874 - accuracy: 0.9269 - val_loss: 0.1900 - val_accuracy: 0.9272\n",
            "Epoch 14/20\n",
            "7668/7668 [==============================] - 371s 48ms/step - loss: 0.1832 - accuracy: 0.9285 - val_loss: 0.2031 - val_accuracy: 0.9212\n",
            "Epoch 15/20\n",
            "7668/7668 [==============================] - 350s 46ms/step - loss: 0.1782 - accuracy: 0.9307 - val_loss: 0.2008 - val_accuracy: 0.9230\n",
            "Epoch 16/20\n",
            "7668/7668 [==============================] - 371s 48ms/step - loss: 0.1768 - accuracy: 0.9310 - val_loss: 0.1798 - val_accuracy: 0.9322\n",
            "Epoch 17/20\n",
            "7668/7668 [==============================] - 373s 49ms/step - loss: 0.1708 - accuracy: 0.9332 - val_loss: 0.2065 - val_accuracy: 0.9234\n",
            "Epoch 18/20\n",
            "7668/7668 [==============================] - 366s 48ms/step - loss: 0.1702 - accuracy: 0.9336 - val_loss: 0.1781 - val_accuracy: 0.9312\n",
            "Epoch 19/20\n",
            "7668/7668 [==============================] - 362s 47ms/step - loss: 0.1677 - accuracy: 0.9341 - val_loss: 0.1763 - val_accuracy: 0.9336\n",
            "Epoch 20/20\n",
            "7668/7668 [==============================] - 364s 48ms/step - loss: 0.1639 - accuracy: 0.9354 - val_loss: 0.1847 - val_accuracy: 0.9290\n"
          ]
        },
        {
          "output_type": "execute_result",
          "data": {
            "text/plain": [
              "<keras.callbacks.History at 0x7ccb23597ac0>"
            ]
          },
          "metadata": {},
          "execution_count": 18
        }
      ]
    },
    {
      "cell_type": "code",
      "source": [
        "test_loss, test_acc = model.evaluate(X_test_conv, y_test_conv)\n",
        "\n",
        "print(f\"Točnost: {test_acc}\")"
      ],
      "metadata": {
        "id": "nK9Kt-od6dYy",
        "colab": {
          "base_uri": "https://localhost:8080/"
        },
        "outputId": "a0011605-0d62-4080-f583-848bdc77158a"
      },
      "execution_count": null,
      "outputs": [
        {
          "output_type": "stream",
          "name": "stdout",
          "text": [
            "2397/2397 [==============================] - 36s 15ms/step - loss: 0.1820 - accuracy: 0.9304\n",
            "Točnost: 0.9304196834564209\n"
          ]
        }
      ]
    },
    {
      "cell_type": "code",
      "source": [
        "filename = 'conv1d_sleep_phase_model-0709-Less.pkl'\n",
        "with open(filename, 'wb') as file:\n",
        "    pickle.dump(model, file)\n"
      ],
      "metadata": {
        "id": "8jCIbwNfDZWk"
      },
      "execution_count": null,
      "outputs": []
    },
    {
      "cell_type": "code",
      "source": [],
      "metadata": {
        "id": "zjgx7THlDfN9"
      },
      "execution_count": null,
      "outputs": []
    },
    {
      "cell_type": "code",
      "source": [
        "xgbClfCtx = XGBClassifier(\n",
        "    n_estimators=100,\n",
        "    n_jobs=-1,\n",
        "    max_depth=12,\n",
        "    learning_rate=0.5\n",
        "    )\n",
        "xgbClfCtx.fit(X_train_ctx, y_train_ctx)"
      ],
      "metadata": {
        "colab": {
          "base_uri": "https://localhost:8080/",
          "height": 249
        },
        "id": "zRy0ideR1_Df",
        "outputId": "8c5ed9dc-0373-4f94-cd66-df67d8b80a0f"
      },
      "execution_count": null,
      "outputs": [
        {
          "output_type": "execute_result",
          "data": {
            "text/plain": [
              "XGBClassifier(base_score=None, booster=None, callbacks=None,\n",
              "              colsample_bylevel=None, colsample_bynode=None,\n",
              "              colsample_bytree=None, early_stopping_rounds=None,\n",
              "              enable_categorical=False, eval_metric=None, feature_types=None,\n",
              "              gamma=None, gpu_id=None, grow_policy=None, importance_type=None,\n",
              "              interaction_constraints=None, learning_rate=0.5, max_bin=None,\n",
              "              max_cat_threshold=None, max_cat_to_onehot=None,\n",
              "              max_delta_step=None, max_depth=12, max_leaves=None,\n",
              "              min_child_weight=None, missing=nan, monotone_constraints=None,\n",
              "              n_estimators=100, n_jobs=-1, num_parallel_tree=None,\n",
              "              objective='multi:softprob', predictor=None, ...)"
            ],
            "text/html": [
              "<style>#sk-container-id-2 {color: black;background-color: white;}#sk-container-id-2 pre{padding: 0;}#sk-container-id-2 div.sk-toggleable {background-color: white;}#sk-container-id-2 label.sk-toggleable__label {cursor: pointer;display: block;width: 100%;margin-bottom: 0;padding: 0.3em;box-sizing: border-box;text-align: center;}#sk-container-id-2 label.sk-toggleable__label-arrow:before {content: \"▸\";float: left;margin-right: 0.25em;color: #696969;}#sk-container-id-2 label.sk-toggleable__label-arrow:hover:before {color: black;}#sk-container-id-2 div.sk-estimator:hover label.sk-toggleable__label-arrow:before {color: black;}#sk-container-id-2 div.sk-toggleable__content {max-height: 0;max-width: 0;overflow: hidden;text-align: left;background-color: #f0f8ff;}#sk-container-id-2 div.sk-toggleable__content pre {margin: 0.2em;color: black;border-radius: 0.25em;background-color: #f0f8ff;}#sk-container-id-2 input.sk-toggleable__control:checked~div.sk-toggleable__content {max-height: 200px;max-width: 100%;overflow: auto;}#sk-container-id-2 input.sk-toggleable__control:checked~label.sk-toggleable__label-arrow:before {content: \"▾\";}#sk-container-id-2 div.sk-estimator input.sk-toggleable__control:checked~label.sk-toggleable__label {background-color: #d4ebff;}#sk-container-id-2 div.sk-label input.sk-toggleable__control:checked~label.sk-toggleable__label {background-color: #d4ebff;}#sk-container-id-2 input.sk-hidden--visually {border: 0;clip: rect(1px 1px 1px 1px);clip: rect(1px, 1px, 1px, 1px);height: 1px;margin: -1px;overflow: hidden;padding: 0;position: absolute;width: 1px;}#sk-container-id-2 div.sk-estimator {font-family: monospace;background-color: #f0f8ff;border: 1px dotted black;border-radius: 0.25em;box-sizing: border-box;margin-bottom: 0.5em;}#sk-container-id-2 div.sk-estimator:hover {background-color: #d4ebff;}#sk-container-id-2 div.sk-parallel-item::after {content: \"\";width: 100%;border-bottom: 1px solid gray;flex-grow: 1;}#sk-container-id-2 div.sk-label:hover label.sk-toggleable__label {background-color: #d4ebff;}#sk-container-id-2 div.sk-serial::before {content: \"\";position: absolute;border-left: 1px solid gray;box-sizing: border-box;top: 0;bottom: 0;left: 50%;z-index: 0;}#sk-container-id-2 div.sk-serial {display: flex;flex-direction: column;align-items: center;background-color: white;padding-right: 0.2em;padding-left: 0.2em;position: relative;}#sk-container-id-2 div.sk-item {position: relative;z-index: 1;}#sk-container-id-2 div.sk-parallel {display: flex;align-items: stretch;justify-content: center;background-color: white;position: relative;}#sk-container-id-2 div.sk-item::before, #sk-container-id-2 div.sk-parallel-item::before {content: \"\";position: absolute;border-left: 1px solid gray;box-sizing: border-box;top: 0;bottom: 0;left: 50%;z-index: -1;}#sk-container-id-2 div.sk-parallel-item {display: flex;flex-direction: column;z-index: 1;position: relative;background-color: white;}#sk-container-id-2 div.sk-parallel-item:first-child::after {align-self: flex-end;width: 50%;}#sk-container-id-2 div.sk-parallel-item:last-child::after {align-self: flex-start;width: 50%;}#sk-container-id-2 div.sk-parallel-item:only-child::after {width: 0;}#sk-container-id-2 div.sk-dashed-wrapped {border: 1px dashed gray;margin: 0 0.4em 0.5em 0.4em;box-sizing: border-box;padding-bottom: 0.4em;background-color: white;}#sk-container-id-2 div.sk-label label {font-family: monospace;font-weight: bold;display: inline-block;line-height: 1.2em;}#sk-container-id-2 div.sk-label-container {text-align: center;}#sk-container-id-2 div.sk-container {/* jupyter's `normalize.less` sets `[hidden] { display: none; }` but bootstrap.min.css set `[hidden] { display: none !important; }` so we also need the `!important` here to be able to override the default hidden behavior on the sphinx rendered scikit-learn.org. See: https://github.com/scikit-learn/scikit-learn/issues/21755 */display: inline-block !important;position: relative;}#sk-container-id-2 div.sk-text-repr-fallback {display: none;}</style><div id=\"sk-container-id-2\" class=\"sk-top-container\"><div class=\"sk-text-repr-fallback\"><pre>XGBClassifier(base_score=None, booster=None, callbacks=None,\n",
              "              colsample_bylevel=None, colsample_bynode=None,\n",
              "              colsample_bytree=None, early_stopping_rounds=None,\n",
              "              enable_categorical=False, eval_metric=None, feature_types=None,\n",
              "              gamma=None, gpu_id=None, grow_policy=None, importance_type=None,\n",
              "              interaction_constraints=None, learning_rate=0.5, max_bin=None,\n",
              "              max_cat_threshold=None, max_cat_to_onehot=None,\n",
              "              max_delta_step=None, max_depth=12, max_leaves=None,\n",
              "              min_child_weight=None, missing=nan, monotone_constraints=None,\n",
              "              n_estimators=100, n_jobs=-1, num_parallel_tree=None,\n",
              "              objective=&#x27;multi:softprob&#x27;, predictor=None, ...)</pre><b>In a Jupyter environment, please rerun this cell to show the HTML representation or trust the notebook. <br />On GitHub, the HTML representation is unable to render, please try loading this page with nbviewer.org.</b></div><div class=\"sk-container\" hidden><div class=\"sk-item\"><div class=\"sk-estimator sk-toggleable\"><input class=\"sk-toggleable__control sk-hidden--visually\" id=\"sk-estimator-id-2\" type=\"checkbox\" checked><label for=\"sk-estimator-id-2\" class=\"sk-toggleable__label sk-toggleable__label-arrow\">XGBClassifier</label><div class=\"sk-toggleable__content\"><pre>XGBClassifier(base_score=None, booster=None, callbacks=None,\n",
              "              colsample_bylevel=None, colsample_bynode=None,\n",
              "              colsample_bytree=None, early_stopping_rounds=None,\n",
              "              enable_categorical=False, eval_metric=None, feature_types=None,\n",
              "              gamma=None, gpu_id=None, grow_policy=None, importance_type=None,\n",
              "              interaction_constraints=None, learning_rate=0.5, max_bin=None,\n",
              "              max_cat_threshold=None, max_cat_to_onehot=None,\n",
              "              max_delta_step=None, max_depth=12, max_leaves=None,\n",
              "              min_child_weight=None, missing=nan, monotone_constraints=None,\n",
              "              n_estimators=100, n_jobs=-1, num_parallel_tree=None,\n",
              "              objective=&#x27;multi:softprob&#x27;, predictor=None, ...)</pre></div></div></div></div></div>"
            ]
          },
          "metadata": {},
          "execution_count": 21
        }
      ]
    },
    {
      "cell_type": "code",
      "source": [
        "y_pred_xgbctx = xgbClfCtx.predict(X_test_ctx)\n",
        "\n",
        "print(\"Točnost: \", accuracy_score(y_test_ctx, y_pred_xgbctx))\n",
        "print(confusion_matrix(y_test_ctx, y_pred_xgbctx))\n",
        "print(classification_report(y_test_ctx, y_pred_xgbctx))"
      ],
      "metadata": {
        "id": "2eJ_WTPZ1Kdf",
        "colab": {
          "base_uri": "https://localhost:8080/"
        },
        "outputId": "e8e44fe6-f436-4391-9d1a-3942e7686787"
      },
      "execution_count": null,
      "outputs": [
        {
          "output_type": "stream",
          "name": "stdout",
          "text": [
            "Točnost:  0.9782347878250437\n",
            "[[15208   170     6     0    13]\n",
            " [  185 14988   298     1    14]\n",
            " [    1   287 14697     0   298]\n",
            " [    0     1     4 15229     0]\n",
            " [   15    18   358     0 14891]]\n",
            "              precision    recall  f1-score   support\n",
            "\n",
            "           0       0.99      0.99      0.99     15397\n",
            "           1       0.97      0.97      0.97     15486\n",
            "           2       0.96      0.96      0.96     15283\n",
            "           3       1.00      1.00      1.00     15234\n",
            "           4       0.98      0.97      0.98     15282\n",
            "\n",
            "    accuracy                           0.98     76682\n",
            "   macro avg       0.98      0.98      0.98     76682\n",
            "weighted avg       0.98      0.98      0.98     76682\n",
            "\n"
          ]
        }
      ]
    },
    {
      "cell_type": "code",
      "source": [
        "filename = 'xgb_sleep_phase_model-0709_ctx.pkl'\n",
        "with open(filename, 'wb') as file:\n",
        "    pickle.dump(xgbClfCtx, file)"
      ],
      "metadata": {
        "id": "ao4XAkg01dvP"
      },
      "execution_count": null,
      "outputs": []
    },
    {
      "cell_type": "code",
      "source": [],
      "metadata": {
        "id": "BmH2XySY55RC"
      },
      "execution_count": null,
      "outputs": []
    }
  ]
}