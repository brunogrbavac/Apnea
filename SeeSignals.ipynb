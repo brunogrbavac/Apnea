{
 "cells": [
  {
   "cell_type": "code",
   "execution_count": 42,
   "id": "c1623b2f-0196-47a6-b7f2-31fdf283e4f3",
   "metadata": {},
   "outputs": [],
   "source": [
    "import pandas as pd\n",
    "import mne"
   ]
  },
  {
   "cell_type": "code",
   "execution_count": 43,
   "id": "4eb0cb48-e681-45f0-9376-1b16df603bfd",
   "metadata": {},
   "outputs": [],
   "source": [
    "root_path=\"C:\\\\Users\\\\bruno\\\\Desktop\\\\Diplomski\\\\ \\\\\"\n",
    "edf_path = root_path + \"edf_signals.edf\"\n",
    "hypnogram_path = root_path + \"csv_hypnogram.csv\"\n",
    "events_path = root_path + \"csv_events.csv\""
   ]
  },
  {
   "cell_type": "code",
   "execution_count": null,
   "id": "522b5bdc-f447-41fb-9368-d2d5b63806d9",
   "metadata": {},
   "outputs": [],
   "source": [
    "data = mne.io.read_raw_edf(edf_path, preload=True)\n",
    "\n",
    "data_raw = data.get_data()\n",
    "data_info = data.info\n",
    "data_channels = data.ch_names"
   ]
  },
  {
   "cell_type": "code",
   "execution_count": 45,
   "id": "637fe11a-cae5-4d5c-98f9-bb7c16d702e2",
   "metadata": {},
   "outputs": [],
   "source": [
    "signal = pd.DataFrame(data_raw)\n",
    "signal = signal.T\n",
    "signal.columns = data_channels"
   ]
  },
  {
   "cell_type": "code",
   "execution_count": 46,
   "id": "e48b82bd-dfa4-459c-a9a9-0658bddb2f6a",
   "metadata": {},
   "outputs": [],
   "source": [
    "pd.set_option('display.max_columns', None)"
   ]
  },
  {
   "cell_type": "code",
   "execution_count": null,
   "id": "528f7957-f2b4-4eeb-98d8-f18e08101011",
   "metadata": {},
   "outputs": [],
   "source": [
    "signal.head()"
   ]
  },
  {
   "cell_type": "code",
   "execution_count": null,
   "id": "1968dc15-cef9-4e76-92a1-488be374074d",
   "metadata": {},
   "outputs": [],
   "source": [
    "signal.describe()"
   ]
  }
 ],
 "metadata": {
  "kernelspec": {
   "display_name": "Python 3 (ipykernel)",
   "language": "python",
   "name": "python3"
  },
  "language_info": {
   "codemirror_mode": {
    "name": "ipython",
    "version": 3
   },
   "file_extension": ".py",
   "mimetype": "text/x-python",
   "name": "python",
   "nbconvert_exporter": "python",
   "pygments_lexer": "ipython3",
   "version": "3.11.4"
  }
 },
 "nbformat": 4,
 "nbformat_minor": 5
}
