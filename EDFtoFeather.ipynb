{
 "cells": [
  {
   "cell_type": "code",
   "execution_count": 8,
   "id": "021e7c70-3a33-4299-b131-126d9d8fff4d",
   "metadata": {
    "editable": true,
    "executionInfo": {
     "elapsed": 263,
     "status": "ok",
     "timestamp": 1690731393284,
     "user": {
      "displayName": "Bruno Grbavac",
      "userId": "16503847937335209341"
     },
     "user_tz": -120
    },
    "id": "iKw0rfKE3gg_",
    "slideshow": {
     "slide_type": ""
    },
    "tags": [
     "parameters"
    ]
   },
   "outputs": [],
   "source": [
    "#parameters\n",
    "\n",
    "root_path=\"C:\\\\Users\\\\bruno\\\\Desktop\\\\Diplomski\\\\38011513_B\\\\\""
   ]
  },
  {
   "cell_type": "code",
   "execution_count": 9,
   "id": "0c63d1b4-6558-4874-8717-4c31e83047dd",
   "metadata": {
    "editable": true,
    "executionInfo": {
     "elapsed": 3336,
     "status": "ok",
     "timestamp": 1690731414084,
     "user": {
      "displayName": "Bruno Grbavac",
      "userId": "16503847937335209341"
     },
     "user_tz": -120
    },
    "id": "ca63a5b0",
    "slideshow": {
     "slide_type": ""
    },
    "tags": []
   },
   "outputs": [],
   "source": [
    "import pandas as pd\n",
    "import numpy as np\n",
    "import mne\n",
    "import pyarrow.feather as feather"
   ]
  },
  {
   "cell_type": "code",
   "execution_count": 10,
   "id": "123be8be-5b5a-4c32-9141-adae48b1c70f",
   "metadata": {
    "editable": true,
    "slideshow": {
     "slide_type": ""
    },
    "tags": []
   },
   "outputs": [],
   "source": [
    "edf_path = root_path + \"edf_signals.edf\""
   ]
  },
  {
   "cell_type": "code",
   "execution_count": 11,
   "id": "40d23db8-05f3-40e7-b2fd-9bd94d62bd41",
   "metadata": {
    "colab": {
     "base_uri": "https://localhost:8080/"
    },
    "editable": true,
    "executionInfo": {
     "elapsed": 39583,
     "status": "ok",
     "timestamp": 1690733142155,
     "user": {
      "displayName": "Bruno Grbavac",
      "userId": "16503847937335209341"
     },
     "user_tz": -120
    },
    "id": "9eddc5d5",
    "outputId": "2ab31eb8-26c4-4af5-c879-38e1d05cf9ac",
    "slideshow": {
     "slide_type": ""
    },
    "tags": []
   },
   "outputs": [
    {
     "name": "stdout",
     "output_type": "stream",
     "text": [
      "Extracting EDF parameters from C:\\Users\\bruno\\Desktop\\Diplomski\\38011513_B\\edf_signals.edf...\n",
      "EDF file detected\n",
      "Setting channel info structure...\n",
      "Creating raw.info structure...\n"
     ]
    },
    {
     "name": "stderr",
     "output_type": "stream",
     "text": [
      "C:\\Users\\bruno\\AppData\\Local\\Temp\\ipykernel_23232\\527758822.py:1: RuntimeWarning: Channel names are not unique, found duplicates for: {'Flow Patient'}. Applying running numbers for duplicates.\n",
      "  data = mne.io.read_raw_edf(edf_path, preload=True)\n"
     ]
    },
    {
     "name": "stdout",
     "output_type": "stream",
     "text": [
      "Reading 0 ... 899999  =      0.000 ...  1799.998 secs...\n"
     ]
    }
   ],
   "source": [
    "data = mne.io.read_raw_edf(edf_path, preload=True)\n",
    "\n",
    "data_raw = data.get_data()\n",
    "data_info = data.info\n",
    "data_channels = data.ch_names\n",
    "meas_date = data.info['meas_date']\n",
    "\n",
    "\n",
    "# Save to Feather\n"
   ]
  },
  {
   "cell_type": "code",
   "execution_count": 6,
   "id": "f85c9c63-b023-4602-934b-3ada170a7b4e",
   "metadata": {
    "editable": true,
    "executionInfo": {
     "elapsed": 2,
     "status": "ok",
     "timestamp": 1690733142414,
     "user": {
      "displayName": "Bruno Grbavac",
      "userId": "16503847937335209341"
     },
     "user_tz": -120
    },
    "id": "9bFs5Nkq7-3O",
    "slideshow": {
     "slide_type": ""
    },
    "tags": []
   },
   "outputs": [],
   "source": [
    "signal = pd.DataFrame(data_raw)\n",
    "\n",
    "signal = signal.T\n",
    "signal.columns = data_channels\n",
    "\n",
    "date_df = pd.DataFrame({'meas_date': [meas_date]})"
   ]
  },
  {
   "cell_type": "code",
   "execution_count": 7,
   "id": "e9f839a2-8c4a-4387-b8b9-b1c832a985e8",
   "metadata": {
    "colab": {
     "background_save": true
    },
    "editable": true,
    "id": "Ei0gxNKUt3lB",
    "slideshow": {
     "slide_type": ""
    },
    "tags": []
   },
   "outputs": [
    {
     "name": "stdout",
     "output_type": "stream",
     "text": [
      "CPU times: total: 0 ns\n",
      "Wall time: 0 ns\n"
     ]
    }
   ],
   "source": [
    "feather.write_feather(signal, root_path + \"edf_signals.feather\")\n",
    "date_df.to_feather(root_path+'meas_date.feather')\n",
    "%time"
   ]
  },
  {
   "cell_type": "code",
   "execution_count": null,
   "id": "a176891f-2860-4bbb-9d81-bf82309ca071",
   "metadata": {
    "editable": true,
    "slideshow": {
     "slide_type": ""
    },
    "tags": []
   },
   "outputs": [],
   "source": []
  }
 ],
 "metadata": {
  "kernelspec": {
   "display_name": "Python 3 (ipykernel)",
   "language": "python",
   "name": "python3"
  },
  "language_info": {
   "codemirror_mode": {
    "name": "ipython",
    "version": 3
   },
   "file_extension": ".py",
   "mimetype": "text/x-python",
   "name": "python",
   "nbconvert_exporter": "python",
   "pygments_lexer": "ipython3",
   "version": "3.11.4"
  }
 },
 "nbformat": 4,
 "nbformat_minor": 5
}
