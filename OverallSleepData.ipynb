{
 "cells": [
  {
   "cell_type": "code",
   "execution_count": 30,
   "id": "3581d4dc-7292-46df-8b3a-c5e5da554b4b",
   "metadata": {},
   "outputs": [],
   "source": [
    "import pandas as pd\n",
    "import pyarrow.feather as feather\n",
    "from getEventTypes import getEventTypes"
   ]
  },
  {
   "cell_type": "code",
   "execution_count": 31,
   "id": "8758a16a-b8d3-4511-9bd6-2c21c5eb484d",
   "metadata": {
    "tags": [
     "parameters"
    ]
   },
   "outputs": [],
   "source": [
    "#parameters\n",
    "root_path=\"C:\\\\Users\\\\bruno\\\\Desktop\\\\Diplomski\\\\ \\\\\""
   ]
  },
  {
   "cell_type": "code",
   "execution_count": 32,
   "id": "cb9729d4-c809-4420-958b-b44405c20796",
   "metadata": {},
   "outputs": [],
   "source": [
    "signal_path = root_path + \"signal.feather\"\n",
    "uni_signal_path=\"C:\\\\Users\\\\bruno\\\\Desktop\\\\Diplomski\\\\uni.feather\""
   ]
  },
  {
   "cell_type": "code",
   "execution_count": 33,
   "id": "8c27956e-41b3-460a-a645-e32617a0b6c0",
   "metadata": {},
   "outputs": [
    {
     "name": "stdout",
     "output_type": "stream",
     "text": [
      "CPU times: total: 6.03 s\n",
      "Wall time: 3.69 s\n"
     ]
    }
   ],
   "source": [
    "%%time\n",
    "table = feather.read_table(signal_path)\n",
    "signal_pyarrow = table.to_pandas()"
   ]
  },
  {
   "cell_type": "code",
   "execution_count": 34,
   "id": "1a3978d2-1448-4890-9665-13bb87c6b93a",
   "metadata": {},
   "outputs": [
    {
     "name": "stdout",
     "output_type": "stream",
     "text": [
      "CPU times: total: 0 ns\n",
      "Wall time: 13 ms\n"
     ]
    }
   ],
   "source": [
    "%%time\n",
    "uni_table = feather.read_table(uni_signal_path)\n",
    "uni_signal_pyarrow = uni_table.to_pandas()"
   ]
  },
  {
   "cell_type": "code",
   "execution_count": 35,
   "id": "28f2b506-f625-4d54-ac5f-b32467759b4b",
   "metadata": {},
   "outputs": [],
   "source": [
    "event_types = [s.replace('Snore', 'Snore_y') for s in getEventTypes()]\n",
    "SleepPhases = {\n",
    "    'WK' : 0,\n",
    "    'N1' : 1,\n",
    "    'N2' : 2,\n",
    "    'N3' : 3,\n",
    "    'REM' : 4\n",
    "}"
   ]
  },
  {
   "cell_type": "code",
   "execution_count": 36,
   "id": "b87a853a-36e9-4eb9-b2bb-0234fa831350",
   "metadata": {},
   "outputs": [],
   "source": [
    "for event_type in event_types:\n",
    "    if event_type not in signal_pyarrow.columns:\n",
    "        signal_pyarrow[event_type] = False"
   ]
  },
  {
   "cell_type": "code",
   "execution_count": 25,
   "id": "e3350ced-6e15-4a7b-9e38-1902319b9899",
   "metadata": {},
   "outputs": [],
   "source": [
    "new_patient_row_dict = {}\n",
    "for event_type in event_types:\n",
    "    for sleep_phase in SleepPhases:\n",
    "        new_patient_row_dict[event_type + \" \" + sleep_phase] = [len(signal_pyarrow[(signal_pyarrow[event_type] == True) & (signal_pyarrow['Stage'] == SleepPhases[sleep_phase])])]\n",
    "    \n",
    "    \n",
    "new_patient_row_dict['Duration'] = [len(signal_pyarrow)]\n",
    "for sleep_phase in SleepPhases:\n",
    "    new_patient_row_dict[\"Duration \" + sleep_phase] = [len(signal_pyarrow[signal_pyarrow['Stage'] == SleepPhases[sleep_phase]])]"
   ]
  },
  {
   "cell_type": "code",
   "execution_count": 29,
   "id": "b9608845-cadd-4135-b813-3428081f88a2",
   "metadata": {},
   "outputs": [
    {
     "data": {
      "text/plain": [
       "0    6004\n",
       "Name: Arousal N1, dtype: int64"
      ]
     },
     "execution_count": 29,
     "metadata": {},
     "output_type": "execute_result"
    }
   ],
   "source": [
    "new_patient_row = pd.DataFrame(new_patient_row_dict)"
   ]
  },
  {
   "cell_type": "code",
   "execution_count": 39,
   "id": "10dd0a64-5f57-40d6-9b92-e385fcee0d16",
   "metadata": {},
   "outputs": [],
   "source": [
    "uni_signal_pyarrow = pd.concat([uni_signal_pyarrow, new_patient_row], ignore_index=True)"
   ]
  },
  {
   "cell_type": "code",
   "execution_count": 10,
   "id": "4645126b-7b05-404e-8b1e-132ffe85108e",
   "metadata": {},
   "outputs": [],
   "source": [
    "feather.write_feather(uni_signal_pyarrow, uni_signal_path)\n"
   ]
  },
  {
   "cell_type": "code",
   "execution_count": null,
   "id": "9320bb9e-5d5e-4bb7-b828-18dc760fdc90",
   "metadata": {},
   "outputs": [],
   "source": []
  }
 ],
 "metadata": {
  "kernelspec": {
   "display_name": "Python 3 (ipykernel)",
   "language": "python",
   "name": "python3"
  },
  "language_info": {
   "codemirror_mode": {
    "name": "ipython",
    "version": 3
   },
   "file_extension": ".py",
   "mimetype": "text/x-python",
   "name": "python",
   "nbconvert_exporter": "python",
   "pygments_lexer": "ipython3",
   "version": "3.11.4"
  }
 },
 "nbformat": 4,
 "nbformat_minor": 5
}
