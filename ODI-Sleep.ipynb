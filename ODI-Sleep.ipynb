{
 "cells": [
  {
   "cell_type": "code",
   "execution_count": 38,
   "id": "39a8fc0d",
   "metadata": {
    "editable": true,
    "execution": {
     "iopub.execute_input": "2023-05-23T04:52:09.188110Z",
     "iopub.status.busy": "2023-05-23T04:52:09.188110Z",
     "iopub.status.idle": "2023-05-23T04:52:09.201973Z",
     "shell.execute_reply": "2023-05-23T04:52:09.201028Z"
    },
    "papermill": {
     "duration": 0.032282,
     "end_time": "2023-05-23T04:52:09.203050",
     "exception": false,
     "start_time": "2023-05-23T04:52:09.170768",
     "status": "completed"
    },
    "slideshow": {
     "slide_type": ""
    },
    "tags": [
     "parameters"
    ]
   },
   "outputs": [],
   "source": [
    "#parameters\n",
    "edf_path=\"C:\\\\Users\\\\bruno.grbavac\\\\Desktop\\\\Diplomski\\\\ \\\\edf_signals.edf\"\n",
    "hypnogram_path=\"C:\\\\Users\\\\bruno.grbavac\\\\Desktop\\\\Diplomski\\\\ \\\\csv_hypnogram.csv\"\n",
    "events_path=\"C:\\\\Users\\\\bruno.grbavac\\\\Desktop\\\\Diplomski\\\\ \\\\csv_events.csv\""
   ]
  },
  {
   "cell_type": "code",
   "execution_count": 39,
   "id": "d577f125",
   "metadata": {
    "execution": {
     "iopub.execute_input": "2023-05-23T04:52:09.220441Z",
     "iopub.status.busy": "2023-05-23T04:52:09.219361Z",
     "iopub.status.idle": "2023-05-23T04:52:09.233343Z",
     "shell.execute_reply": "2023-05-23T04:52:09.231530Z"
    },
    "papermill": {
     "duration": 0.02238,
     "end_time": "2023-05-23T04:52:09.234420",
     "exception": false,
     "start_time": "2023-05-23T04:52:09.212040",
     "status": "completed"
    },
    "tags": [
     "injected-parameters"
    ]
   },
   "outputs": [],
   "source": [
    "# Parameters\n",
    "edf_path = (\n",
    "    \"C:\\\\Users\\\\bruno.grbavac\\\\Desktop\\\\Diplomski\\\\ \\\\edf_signals.edf\"\n",
    ")"
   ]
  },
  {
   "cell_type": "code",
   "execution_count": 40,
   "id": "8c12bcaa",
   "metadata": {
    "execution": {
     "iopub.execute_input": "2023-05-23T04:52:09.252408Z",
     "iopub.status.busy": "2023-05-23T04:52:09.251406Z",
     "iopub.status.idle": "2023-05-23T04:52:09.263683Z",
     "shell.execute_reply": "2023-05-23T04:52:09.262508Z"
    },
    "papermill": {
     "duration": 0.023397,
     "end_time": "2023-05-23T04:52:09.265713",
     "exception": false,
     "start_time": "2023-05-23T04:52:09.242316",
     "status": "completed"
    },
    "tags": []
   },
   "outputs": [],
   "source": [
    "# ODI"
   ]
  },
  {
   "cell_type": "code",
   "execution_count": 41,
   "id": "8070bf6f",
   "metadata": {},
   "outputs": [],
   "source": [
    "# %matplotlib notebook\n",
    "%matplotlib widget"
   ]
  },
  {
   "cell_type": "code",
   "execution_count": 42,
   "id": "ca63a5b0",
   "metadata": {
    "execution": {
     "iopub.execute_input": "2023-05-23T04:52:09.284801Z",
     "iopub.status.busy": "2023-05-23T04:52:09.283807Z",
     "iopub.status.idle": "2023-05-23T04:52:11.527037Z",
     "shell.execute_reply": "2023-05-23T04:52:11.525582Z"
    },
    "papermill": {
     "duration": 2.256378,
     "end_time": "2023-05-23T04:52:11.531034",
     "exception": false,
     "start_time": "2023-05-23T04:52:09.274656",
     "status": "completed"
    },
    "tags": []
   },
   "outputs": [],
   "source": [
    "import pandas as pd\n",
    "import numpy as np\n",
    "import csv\n",
    "import mne\n",
    "from scipy.signal import find_peaks\n",
    "from matplotlib import pyplot as plt, dates as mdates\n",
    "import seaborn as sns\n",
    "import math\n",
    "from datetime import datetime, timedelta, time"
   ]
  },
  {
   "cell_type": "code",
   "execution_count": 43,
   "id": "c3cbe72b",
   "metadata": {},
   "outputs": [
    {
     "data": {
      "text/html": [
       "<div>\n",
       "<style scoped>\n",
       "    .dataframe tbody tr th:only-of-type {\n",
       "        vertical-align: middle;\n",
       "    }\n",
       "\n",
       "    .dataframe tbody tr th {\n",
       "        vertical-align: top;\n",
       "    }\n",
       "\n",
       "    .dataframe thead th {\n",
       "        text-align: right;\n",
       "    }\n",
       "</style>\n",
       "<table border=\"1\" class=\"dataframe\">\n",
       "  <thead>\n",
       "    <tr style=\"text-align: right;\">\n",
       "      <th></th>\n",
       "      <th>Epoch Number</th>\n",
       "      <th>Start Time</th>\n",
       "      <th>Sleep Stage</th>\n",
       "    </tr>\n",
       "  </thead>\n",
       "  <tbody>\n",
       "    <tr>\n",
       "      <th>0</th>\n",
       "      <td>1</td>\n",
       "      <td>21:36:22</td>\n",
       "      <td>0</td>\n",
       "    </tr>\n",
       "    <tr>\n",
       "      <th>1</th>\n",
       "      <td>2</td>\n",
       "      <td>21:36:52</td>\n",
       "      <td>0</td>\n",
       "    </tr>\n",
       "    <tr>\n",
       "      <th>2</th>\n",
       "      <td>3</td>\n",
       "      <td>21:37:22</td>\n",
       "      <td>0</td>\n",
       "    </tr>\n",
       "    <tr>\n",
       "      <th>3</th>\n",
       "      <td>4</td>\n",
       "      <td>21:37:52</td>\n",
       "      <td>0</td>\n",
       "    </tr>\n",
       "    <tr>\n",
       "      <th>4</th>\n",
       "      <td>5</td>\n",
       "      <td>21:38:22</td>\n",
       "      <td>0</td>\n",
       "    </tr>\n",
       "    <tr>\n",
       "      <th>...</th>\n",
       "      <td>...</td>\n",
       "      <td>...</td>\n",
       "      <td>...</td>\n",
       "    </tr>\n",
       "    <tr>\n",
       "      <th>937</th>\n",
       "      <td>938</td>\n",
       "      <td>5:24:52</td>\n",
       "      <td>0</td>\n",
       "    </tr>\n",
       "    <tr>\n",
       "      <th>938</th>\n",
       "      <td>939</td>\n",
       "      <td>5:25:22</td>\n",
       "      <td>0</td>\n",
       "    </tr>\n",
       "    <tr>\n",
       "      <th>939</th>\n",
       "      <td>940</td>\n",
       "      <td>5:25:52</td>\n",
       "      <td>0</td>\n",
       "    </tr>\n",
       "    <tr>\n",
       "      <th>940</th>\n",
       "      <td>941</td>\n",
       "      <td>5:26:22</td>\n",
       "      <td>0</td>\n",
       "    </tr>\n",
       "    <tr>\n",
       "      <th>941</th>\n",
       "      <td>942</td>\n",
       "      <td>5:26:52</td>\n",
       "      <td>0</td>\n",
       "    </tr>\n",
       "  </tbody>\n",
       "</table>\n",
       "<p>942 rows × 3 columns</p>\n",
       "</div>"
      ],
      "text/plain": [
       "      Epoch Number  Start Time   Sleep Stage\n",
       "0                 1    21:36:22            0\n",
       "1                 2    21:36:52            0\n",
       "2                 3    21:37:22            0\n",
       "3                 4    21:37:52            0\n",
       "4                 5    21:38:22            0\n",
       "..              ...         ...          ...\n",
       "937             938     5:24:52            0\n",
       "938             939     5:25:22            0\n",
       "939             940     5:25:52            0\n",
       "940             941     5:26:22            0\n",
       "941             942     5:26:52            0\n",
       "\n",
       "[942 rows x 3 columns]"
      ]
     },
     "metadata": {},
     "output_type": "display_data"
    },
    {
     "data": {
      "text/html": [
       "<div>\n",
       "<style scoped>\n",
       "    .dataframe tbody tr th:only-of-type {\n",
       "        vertical-align: middle;\n",
       "    }\n",
       "\n",
       "    .dataframe tbody tr th {\n",
       "        vertical-align: top;\n",
       "    }\n",
       "\n",
       "    .dataframe thead th {\n",
       "        text-align: right;\n",
       "    }\n",
       "</style>\n",
       "<table border=\"1\" class=\"dataframe\">\n",
       "  <thead>\n",
       "    <tr style=\"text-align: right;\">\n",
       "      <th></th>\n",
       "      <th>Type</th>\n",
       "      <th>Stage</th>\n",
       "      <th>Time</th>\n",
       "      <th>Epoch</th>\n",
       "      <th>Duration</th>\n",
       "      <th>Body Position</th>\n",
       "      <th>Validation</th>\n",
       "    </tr>\n",
       "  </thead>\n",
       "  <tbody>\n",
       "    <tr>\n",
       "      <th>0</th>\n",
       "      <td>Gain (CEMG)</td>\n",
       "      <td>WK</td>\n",
       "      <td>2023-06-28 21:36:22</td>\n",
       "      <td>1</td>\n",
       "      <td>0,0</td>\n",
       "      <td>Up</td>\n",
       "      <td>Automatic Gain</td>\n",
       "    </tr>\n",
       "    <tr>\n",
       "      <th>1</th>\n",
       "      <td>Gain (CanFlow)</td>\n",
       "      <td>WK</td>\n",
       "      <td>2023-06-28 21:36:22</td>\n",
       "      <td>1</td>\n",
       "      <td>0,0</td>\n",
       "      <td>Up</td>\n",
       "      <td>Automatic Gain</td>\n",
       "    </tr>\n",
       "    <tr>\n",
       "      <th>2</th>\n",
       "      <td>Gain (TFlow)</td>\n",
       "      <td>WK</td>\n",
       "      <td>2023-06-28 21:36:22</td>\n",
       "      <td>1</td>\n",
       "      <td>0,0</td>\n",
       "      <td>Up</td>\n",
       "      <td>Automatic Gain</td>\n",
       "    </tr>\n",
       "    <tr>\n",
       "      <th>3</th>\n",
       "      <td>Gain (THO)</td>\n",
       "      <td>WK</td>\n",
       "      <td>2023-06-28 21:36:22</td>\n",
       "      <td>1</td>\n",
       "      <td>0,0</td>\n",
       "      <td>Up</td>\n",
       "      <td>Automatic Gain</td>\n",
       "    </tr>\n",
       "    <tr>\n",
       "      <th>4</th>\n",
       "      <td>Gain (ABD)</td>\n",
       "      <td>WK</td>\n",
       "      <td>2023-06-28 21:36:22</td>\n",
       "      <td>1</td>\n",
       "      <td>0,0</td>\n",
       "      <td>Up</td>\n",
       "      <td>Automatic Gain</td>\n",
       "    </tr>\n",
       "    <tr>\n",
       "      <th>...</th>\n",
       "      <td>...</td>\n",
       "      <td>...</td>\n",
       "      <td>...</td>\n",
       "      <td>...</td>\n",
       "      <td>...</td>\n",
       "      <td>...</td>\n",
       "      <td>...</td>\n",
       "    </tr>\n",
       "    <tr>\n",
       "      <th>5006</th>\n",
       "      <td>Long RR</td>\n",
       "      <td>N2</td>\n",
       "      <td>2023-06-28 05:19:20</td>\n",
       "      <td>926</td>\n",
       "      <td>2,0</td>\n",
       "      <td>Supine</td>\n",
       "      <td>Not Validated</td>\n",
       "    </tr>\n",
       "    <tr>\n",
       "      <th>5007</th>\n",
       "      <td>Bradycardia</td>\n",
       "      <td>WK</td>\n",
       "      <td>2023-06-28 05:19:23</td>\n",
       "      <td>927</td>\n",
       "      <td>27,0</td>\n",
       "      <td>Supine</td>\n",
       "      <td>Not Validated</td>\n",
       "    </tr>\n",
       "    <tr>\n",
       "      <th>5008</th>\n",
       "      <td>Long RR</td>\n",
       "      <td>WK</td>\n",
       "      <td>2023-06-28 05:19:31</td>\n",
       "      <td>927</td>\n",
       "      <td>2,0</td>\n",
       "      <td>Supine</td>\n",
       "      <td>Not Validated</td>\n",
       "    </tr>\n",
       "    <tr>\n",
       "      <th>5009</th>\n",
       "      <td>Relative Desaturation</td>\n",
       "      <td>WK</td>\n",
       "      <td>2023-06-28 05:19:32</td>\n",
       "      <td>927</td>\n",
       "      <td>22,0</td>\n",
       "      <td>Supine</td>\n",
       "      <td>Not Validated</td>\n",
       "    </tr>\n",
       "    <tr>\n",
       "      <th>5010</th>\n",
       "      <td>Long RR</td>\n",
       "      <td>WK</td>\n",
       "      <td>2023-06-28 05:19:36</td>\n",
       "      <td>927</td>\n",
       "      <td>2,0</td>\n",
       "      <td>Supine</td>\n",
       "      <td>Not Validated</td>\n",
       "    </tr>\n",
       "  </tbody>\n",
       "</table>\n",
       "<p>5011 rows × 7 columns</p>\n",
       "</div>"
      ],
      "text/plain": [
       "                       Type Stage                Time  Epoch Duration  \\\n",
       "0               Gain (CEMG)    WK 2023-06-28 21:36:22      1      0,0   \n",
       "1            Gain (CanFlow)    WK 2023-06-28 21:36:22      1      0,0   \n",
       "2              Gain (TFlow)    WK 2023-06-28 21:36:22      1      0,0   \n",
       "3                Gain (THO)    WK 2023-06-28 21:36:22      1      0,0   \n",
       "4                Gain (ABD)    WK 2023-06-28 21:36:22      1      0,0   \n",
       "...                     ...   ...                 ...    ...      ...   \n",
       "5006                Long RR    N2 2023-06-28 05:19:20    926      2,0   \n",
       "5007            Bradycardia    WK 2023-06-28 05:19:23    927     27,0   \n",
       "5008                Long RR    WK 2023-06-28 05:19:31    927      2,0   \n",
       "5009  Relative Desaturation    WK 2023-06-28 05:19:32    927     22,0   \n",
       "5010                Long RR    WK 2023-06-28 05:19:36    927      2,0   \n",
       "\n",
       "     Body Position      Validation  \n",
       "0               Up  Automatic Gain  \n",
       "1               Up  Automatic Gain  \n",
       "2               Up  Automatic Gain  \n",
       "3               Up  Automatic Gain  \n",
       "4               Up  Automatic Gain  \n",
       "...            ...             ...  \n",
       "5006        Supine   Not Validated  \n",
       "5007        Supine   Not Validated  \n",
       "5008        Supine   Not Validated  \n",
       "5009        Supine   Not Validated  \n",
       "5010        Supine   Not Validated  \n",
       "\n",
       "[5011 rows x 7 columns]"
      ]
     },
     "metadata": {},
     "output_type": "display_data"
    }
   ],
   "source": [
    "hypno_df = pd.read_csv(hypnogram_path)\n",
    "events_df = pd.read_csv(events_path,sep=\";\")\n",
    "\n",
    "\n",
    "SleepPhases = {\n",
    "    'WK' : 0,\n",
    "    'N1' : 1,\n",
    "    'N2' : 2,\n",
    "    'N3' : 3,\n",
    "    'REM' : 4}\n",
    "    \n",
    "hypno_df['Sleep Stage'] = hypno_df['Sleep Stage'].map(SleepPhases.get)\n",
    "events_df['Time'] = pd.to_datetime(events_df['Time'])\n",
    "display(hypno_df)\n",
    "display(events_df)"
   ]
  },
  {
   "cell_type": "code",
   "execution_count": 44,
   "id": "e5a74a29",
   "metadata": {},
   "outputs": [
    {
     "data": {
      "text/html": [
       "<div>\n",
       "<style scoped>\n",
       "    .dataframe tbody tr th:only-of-type {\n",
       "        vertical-align: middle;\n",
       "    }\n",
       "\n",
       "    .dataframe tbody tr th {\n",
       "        vertical-align: top;\n",
       "    }\n",
       "\n",
       "    .dataframe thead th {\n",
       "        text-align: right;\n",
       "    }\n",
       "</style>\n",
       "<table border=\"1\" class=\"dataframe\">\n",
       "  <thead>\n",
       "    <tr style=\"text-align: right;\">\n",
       "      <th></th>\n",
       "      <th>Type</th>\n",
       "      <th>Stage</th>\n",
       "      <th>Time</th>\n",
       "      <th>Epoch</th>\n",
       "      <th>Duration</th>\n",
       "      <th>Body Position</th>\n",
       "      <th>Validation</th>\n",
       "    </tr>\n",
       "  </thead>\n",
       "  <tbody>\n",
       "    <tr>\n",
       "      <th>1</th>\n",
       "      <td>Gain (CanFlow)</td>\n",
       "      <td>WK</td>\n",
       "      <td>2023-06-28 21:36:22</td>\n",
       "      <td>1</td>\n",
       "      <td>0,0</td>\n",
       "      <td>Up</td>\n",
       "      <td>Automatic Gain</td>\n",
       "    </tr>\n",
       "  </tbody>\n",
       "</table>\n",
       "</div>"
      ],
      "text/plain": [
       "             Type Stage                Time  Epoch Duration Body Position  \\\n",
       "1  Gain (CanFlow)    WK 2023-06-28 21:36:22      1      0,0            Up   \n",
       "\n",
       "       Validation  \n",
       "1  Automatic Gain  "
      ]
     },
     "execution_count": 44,
     "metadata": {},
     "output_type": "execute_result"
    }
   ],
   "source": [
    "events_df.iloc[1:2]"
   ]
  },
  {
   "cell_type": "code",
   "execution_count": 45,
   "id": "3a271686",
   "metadata": {},
   "outputs": [
    {
     "data": {
      "text/plain": [
       "array(['Gain (CEMG)', 'Gain (CanFlow)', 'Gain (TFlow)', 'Gain (THO)',\n",
       "       'Gain (ABD)', 'Gain (MSnore)', 'Gain (ECG1)', 'Gain (LEG1)',\n",
       "       'Gain (LEG2)', 'ok', 'Long RR', 'Bradycardia', 'Tachycardia',\n",
       "       'Relative Desaturation', 'Snore', 'Obstructive Apnea', 'Arousal',\n",
       "       'Hypopnea', 'Mixed Apnea', 'Central Apnea', 'Leg Movement',\n",
       "       'Periodic Respiration'], dtype=object)"
      ]
     },
     "execution_count": 45,
     "metadata": {},
     "output_type": "execute_result"
    }
   ],
   "source": [
    "events_df['Type'].unique()"
   ]
  },
  {
   "cell_type": "code",
   "execution_count": 49,
   "id": "f153ac7e",
   "metadata": {},
   "outputs": [
    {
     "data": {
      "text/html": [
       "<div>\n",
       "<style scoped>\n",
       "    .dataframe tbody tr th:only-of-type {\n",
       "        vertical-align: middle;\n",
       "    }\n",
       "\n",
       "    .dataframe tbody tr th {\n",
       "        vertical-align: top;\n",
       "    }\n",
       "\n",
       "    .dataframe thead th {\n",
       "        text-align: right;\n",
       "    }\n",
       "</style>\n",
       "<table border=\"1\" class=\"dataframe\">\n",
       "  <thead>\n",
       "    <tr style=\"text-align: right;\">\n",
       "      <th></th>\n",
       "      <th>Long RR</th>\n",
       "      <th>Bradycardia</th>\n",
       "      <th>Tachycardia</th>\n",
       "      <th>Relative Desaturation</th>\n",
       "      <th>Snore</th>\n",
       "      <th>Obstructive Apnea</th>\n",
       "      <th>Arousal</th>\n",
       "      <th>Hypopnea</th>\n",
       "      <th>Mixed Apnea</th>\n",
       "      <th>Central Apnea</th>\n",
       "      <th>Leg Movement</th>\n",
       "      <th>Periodic Respiration</th>\n",
       "      <th>Body Position</th>\n",
       "    </tr>\n",
       "  </thead>\n",
       "  <tbody>\n",
       "    <tr>\n",
       "      <th>0</th>\n",
       "      <td>0</td>\n",
       "      <td>0</td>\n",
       "      <td>0</td>\n",
       "      <td>0</td>\n",
       "      <td>0</td>\n",
       "      <td>0</td>\n",
       "      <td>0</td>\n",
       "      <td>0</td>\n",
       "      <td>0</td>\n",
       "      <td>0</td>\n",
       "      <td>0</td>\n",
       "      <td>0</td>\n",
       "      <td>0</td>\n",
       "    </tr>\n",
       "    <tr>\n",
       "      <th>1</th>\n",
       "      <td>0</td>\n",
       "      <td>0</td>\n",
       "      <td>0</td>\n",
       "      <td>0</td>\n",
       "      <td>0</td>\n",
       "      <td>0</td>\n",
       "      <td>0</td>\n",
       "      <td>0</td>\n",
       "      <td>0</td>\n",
       "      <td>0</td>\n",
       "      <td>0</td>\n",
       "      <td>0</td>\n",
       "      <td>0</td>\n",
       "    </tr>\n",
       "    <tr>\n",
       "      <th>2</th>\n",
       "      <td>0</td>\n",
       "      <td>0</td>\n",
       "      <td>0</td>\n",
       "      <td>0</td>\n",
       "      <td>0</td>\n",
       "      <td>0</td>\n",
       "      <td>0</td>\n",
       "      <td>0</td>\n",
       "      <td>0</td>\n",
       "      <td>0</td>\n",
       "      <td>0</td>\n",
       "      <td>0</td>\n",
       "      <td>0</td>\n",
       "    </tr>\n",
       "    <tr>\n",
       "      <th>3</th>\n",
       "      <td>0</td>\n",
       "      <td>0</td>\n",
       "      <td>0</td>\n",
       "      <td>0</td>\n",
       "      <td>0</td>\n",
       "      <td>0</td>\n",
       "      <td>0</td>\n",
       "      <td>0</td>\n",
       "      <td>0</td>\n",
       "      <td>0</td>\n",
       "      <td>0</td>\n",
       "      <td>0</td>\n",
       "      <td>0</td>\n",
       "    </tr>\n",
       "    <tr>\n",
       "      <th>4</th>\n",
       "      <td>0</td>\n",
       "      <td>0</td>\n",
       "      <td>0</td>\n",
       "      <td>0</td>\n",
       "      <td>0</td>\n",
       "      <td>0</td>\n",
       "      <td>0</td>\n",
       "      <td>0</td>\n",
       "      <td>0</td>\n",
       "      <td>0</td>\n",
       "      <td>0</td>\n",
       "      <td>0</td>\n",
       "      <td>0</td>\n",
       "    </tr>\n",
       "    <tr>\n",
       "      <th>...</th>\n",
       "      <td>...</td>\n",
       "      <td>...</td>\n",
       "      <td>...</td>\n",
       "      <td>...</td>\n",
       "      <td>...</td>\n",
       "      <td>...</td>\n",
       "      <td>...</td>\n",
       "      <td>...</td>\n",
       "      <td>...</td>\n",
       "      <td>...</td>\n",
       "      <td>...</td>\n",
       "      <td>...</td>\n",
       "      <td>...</td>\n",
       "    </tr>\n",
       "    <tr>\n",
       "      <th>14127495</th>\n",
       "      <td>0</td>\n",
       "      <td>0</td>\n",
       "      <td>0</td>\n",
       "      <td>0</td>\n",
       "      <td>0</td>\n",
       "      <td>0</td>\n",
       "      <td>0</td>\n",
       "      <td>0</td>\n",
       "      <td>0</td>\n",
       "      <td>0</td>\n",
       "      <td>0</td>\n",
       "      <td>0</td>\n",
       "      <td>0</td>\n",
       "    </tr>\n",
       "    <tr>\n",
       "      <th>14127496</th>\n",
       "      <td>0</td>\n",
       "      <td>0</td>\n",
       "      <td>0</td>\n",
       "      <td>0</td>\n",
       "      <td>0</td>\n",
       "      <td>0</td>\n",
       "      <td>0</td>\n",
       "      <td>0</td>\n",
       "      <td>0</td>\n",
       "      <td>0</td>\n",
       "      <td>0</td>\n",
       "      <td>0</td>\n",
       "      <td>0</td>\n",
       "    </tr>\n",
       "    <tr>\n",
       "      <th>14127497</th>\n",
       "      <td>0</td>\n",
       "      <td>0</td>\n",
       "      <td>0</td>\n",
       "      <td>0</td>\n",
       "      <td>0</td>\n",
       "      <td>0</td>\n",
       "      <td>0</td>\n",
       "      <td>0</td>\n",
       "      <td>0</td>\n",
       "      <td>0</td>\n",
       "      <td>0</td>\n",
       "      <td>0</td>\n",
       "      <td>0</td>\n",
       "    </tr>\n",
       "    <tr>\n",
       "      <th>14127498</th>\n",
       "      <td>0</td>\n",
       "      <td>0</td>\n",
       "      <td>0</td>\n",
       "      <td>0</td>\n",
       "      <td>0</td>\n",
       "      <td>0</td>\n",
       "      <td>0</td>\n",
       "      <td>0</td>\n",
       "      <td>0</td>\n",
       "      <td>0</td>\n",
       "      <td>0</td>\n",
       "      <td>0</td>\n",
       "      <td>0</td>\n",
       "    </tr>\n",
       "    <tr>\n",
       "      <th>14127499</th>\n",
       "      <td>0</td>\n",
       "      <td>0</td>\n",
       "      <td>0</td>\n",
       "      <td>0</td>\n",
       "      <td>0</td>\n",
       "      <td>0</td>\n",
       "      <td>0</td>\n",
       "      <td>0</td>\n",
       "      <td>0</td>\n",
       "      <td>0</td>\n",
       "      <td>0</td>\n",
       "      <td>0</td>\n",
       "      <td>0</td>\n",
       "    </tr>\n",
       "  </tbody>\n",
       "</table>\n",
       "<p>14127500 rows × 13 columns</p>\n",
       "</div>"
      ],
      "text/plain": [
       "          Long RR  Bradycardia  Tachycardia  Relative Desaturation  Snore  \\\n",
       "0               0            0            0                      0      0   \n",
       "1               0            0            0                      0      0   \n",
       "2               0            0            0                      0      0   \n",
       "3               0            0            0                      0      0   \n",
       "4               0            0            0                      0      0   \n",
       "...           ...          ...          ...                    ...    ...   \n",
       "14127495        0            0            0                      0      0   \n",
       "14127496        0            0            0                      0      0   \n",
       "14127497        0            0            0                      0      0   \n",
       "14127498        0            0            0                      0      0   \n",
       "14127499        0            0            0                      0      0   \n",
       "\n",
       "          Obstructive Apnea  Arousal  Hypopnea  Mixed Apnea  Central Apnea  \\\n",
       "0                         0        0         0            0              0   \n",
       "1                         0        0         0            0              0   \n",
       "2                         0        0         0            0              0   \n",
       "3                         0        0         0            0              0   \n",
       "4                         0        0         0            0              0   \n",
       "...                     ...      ...       ...          ...            ...   \n",
       "14127495                  0        0         0            0              0   \n",
       "14127496                  0        0         0            0              0   \n",
       "14127497                  0        0         0            0              0   \n",
       "14127498                  0        0         0            0              0   \n",
       "14127499                  0        0         0            0              0   \n",
       "\n",
       "          Leg Movement  Periodic Respiration  Body Position  \n",
       "0                    0                     0              0  \n",
       "1                    0                     0              0  \n",
       "2                    0                     0              0  \n",
       "3                    0                     0              0  \n",
       "4                    0                     0              0  \n",
       "...                ...                   ...            ...  \n",
       "14127495             0                     0              0  \n",
       "14127496             0                     0              0  \n",
       "14127497             0                     0              0  \n",
       "14127498             0                     0              0  \n",
       "14127499             0                     0              0  \n",
       "\n",
       "[14127500 rows x 13 columns]"
      ]
     },
     "metadata": {},
     "output_type": "display_data"
    },
    {
     "name": "stdout",
     "output_type": "stream",
     "text": [
      "whole: 14127500\n"
     ]
    }
   ],
   "source": [
    "events_signal_df = pd.DataFrame(0, index=np.arange(14127500),columns=['Long RR', 'Bradycardia', 'Tachycardia','Relative Desaturation', 'Snore', 'Obstructive Apnea', 'Arousal','Hypopnea', 'Mixed Apnea', 'Central Apnea', 'Leg Movement','Periodic Respiration','Body Position'])\n",
    "# d = pd.DataFrame(0, index=np.arange(len(data)), columns=feature_list)\n",
    "# events_signal_df.append([0,0,0,0,0,0,0,0,0,0,0,0,0])\n",
    "# events_signal_df = pd.concat([events_signal_df]*14127500 )\n",
    "display(events_signal_df)\n",
    "print(\"whole: \"+str(len(events_signal_df)))"
   ]
  },
  {
   "cell_type": "code",
   "execution_count": 50,
   "id": "433a16d0",
   "metadata": {},
   "outputs": [],
   "source": [
    "def shiftTimestampToYesterday(value):\n",
    "    noon = time(12, 0)\n",
    "    if(noon<value.time()):\n",
    "        return value - timedelta(days=1)\n",
    "    else:\n",
    "        return value"
   ]
  },
  {
   "cell_type": "code",
   "execution_count": null,
   "id": "872b0f47",
   "metadata": {},
   "outputs": [],
   "source": [
    "print(datetime.now())\n",
    "start_time = events_df.loc[0]['Time']\n",
    "print(start_time)\n",
    "noon = time(12, 0)\n",
    "\n",
    "for index, row in events_df.iterrows():\n",
    "    print(\"Row: \" + str(index))\n",
    "    secondsDiff = (shiftTimestampToYesterday(row['Time']) - shiftTimestampToYesterday(start_time)).total_seconds()\n",
    "    first_row_included = int(secondsDiff*500)\n",
    "    rows_duration = int(round(float(row['Duration'].replace(',','.'))*500))\n",
    "    last_row_included = int(secondsDiff*500 + rows_duration)\n",
    "    \n",
    "    event_slice=events_signal_df.iloc[first_row_included:first_row_included+1]\n",
    "    if row['Type'] in event_slice.columns:\n",
    "        event_slice[row['Type']]=100\n",
    "    event_slice.iloc[0]['Body Position'] = row['Body Position']\n",
    "\n",
    "    if(rows_duration>1):\n",
    "        event_slice = pd.concat([event_slice]*(rows_duration+1), ignore_index=True)\n",
    "    pre_event_df_slice = events_signal_df.iloc[:first_row_included]\n",
    "    post_event_df_slice = events_signal_df.iloc[last_row_included+1:]\n",
    "    print(\"whole: \"+str(len(events_signal_df))+\"pre: \"+ str(len(pre_event_df_slice))+\", dur: \"+str(rows_duration)+\", event: \"+str(len(event_slice)) + \", post: \" + str(len(post_event_df_slice)))\n",
    "    \n",
    "    events_signal_df = pd.concat([pre_event_df_slice,event_slice,post_event_df_slice], ignore_index=True)\n",
    "    \n",
    "display(events_signal_df)\n",
    "print(datetime.now())\n"
   ]
  },
  {
   "cell_type": "code",
   "execution_count": null,
   "id": "74e03cbd",
   "metadata": {},
   "outputs": [],
   "source": [
    "events_df[events_df['Type']==\"ok\"]"
   ]
  },
  {
   "cell_type": "code",
   "execution_count": null,
   "id": "cab1e50b",
   "metadata": {},
   "outputs": [],
   "source": [
    "hypno_df.rename(columns={' Epoch Number ':'Epoch','Sleep Stage': 'Stage', 'Start Time ':'Start'}, inplace=True)\n",
    "hypno_df['Start'] = pd.to_datetime(hypno_df['Start'])\n",
    "hypno_df['Epoch'] = hypno_df['Epoch'].astype(int)  \n",
    "hypno_df['Start'] = hypno_df['Start'].apply(shiftTimestampToYesterday)\n",
    "hypno_df = hypno_df.sort_values(by=['Start'])\n",
    "hypno_df"
   ]
  },
  {
   "cell_type": "code",
   "execution_count": null,
   "id": "879a8486",
   "metadata": {},
   "outputs": [],
   "source": [
    "hypno_df.set_index('Start', inplace=True)\n",
    "new_frequency = '2L'\n",
    "\n",
    "hypno_df_resampled = hypno_df.resample(new_frequency)\n",
    "hypno_df_resampled_interpolated = hypno_df_resampled.interpolate()\n",
    "hypno_df_resampled_interpolated.reset_index(inplace=True)\n",
    "hypno_df_resampled_interpolated['Epoch'] = hypno_df_resampled_interpolated['Epoch'].apply(round)\n",
    "hypno_df_resampled_interpolated['Stage'] = hypno_df_resampled_interpolated['Stage'].apply(round)\n",
    "hypno_df_resampled_interpolated"
   ]
  },
  {
   "cell_type": "code",
   "execution_count": null,
   "id": "1d26e8f3",
   "metadata": {
    "scrolled": true
   },
   "outputs": [],
   "source": [
    "fig, ax = plt.subplots()\n",
    "ax.plot(hypno_df_resampled_interpolated['Start'], hypno_df_resampled_interpolated['Stage'])\n",
    "ax.format_xdata = mdates.DateFormatter('%H:%M:%S')\n",
    "ax.set_xlabel('Epoch Start Time')\n",
    "ax.set_ylabel('Sleep Stage')\n",
    "ax.set_title('Hypnogram')\n",
    "plt.xticks(rotation=45)\n",
    "\n",
    "\n",
    "xformatter = mdates.DateFormatter('%H:%M')\n",
    "ax.xaxis.set_major_formatter(xformatter)\n",
    "\n",
    "plt.show()"
   ]
  },
  {
   "cell_type": "code",
   "execution_count": null,
   "id": "ce59b7f9",
   "metadata": {},
   "outputs": [],
   "source": [
    "hypno_df_resampled_interpolated"
   ]
  },
  {
   "cell_type": "code",
   "execution_count": null,
   "id": "9eddc5d5",
   "metadata": {
    "execution": {
     "iopub.execute_input": "2023-05-23T04:52:11.558449Z",
     "iopub.status.busy": "2023-05-23T04:52:11.557937Z",
     "iopub.status.idle": "2023-05-23T04:52:46.675832Z",
     "shell.execute_reply": "2023-05-23T04:52:46.674839Z"
    },
    "papermill": {
     "duration": 35.134836,
     "end_time": "2023-05-23T04:52:46.677825",
     "exception": false,
     "start_time": "2023-05-23T04:52:11.542989",
     "status": "completed"
    },
    "tags": []
   },
   "outputs": [],
   "source": [
    "data = mne.io.read_raw_edf(edf_path)\n",
    "\n",
    "data_raw = data.get_data()\n",
    "data_info = data.info\n",
    "data_channels = data.ch_names\n",
    "print(data_info)"
   ]
  },
  {
   "cell_type": "code",
   "execution_count": null,
   "id": "37fc2521",
   "metadata": {
    "execution": {
     "iopub.execute_input": "2023-05-23T04:52:46.704298Z",
     "iopub.status.busy": "2023-05-23T04:52:46.703302Z",
     "iopub.status.idle": "2023-05-23T04:52:46.723236Z",
     "shell.execute_reply": "2023-05-23T04:52:46.722326Z"
    },
    "papermill": {
     "duration": 0.036325,
     "end_time": "2023-05-23T04:52:46.725234",
     "exception": false,
     "start_time": "2023-05-23T04:52:46.688909",
     "status": "completed"
    },
    "tags": []
   },
   "outputs": [],
   "source": [
    "# saturation_index = data_channels.index('SpO2')\n",
    "# display(saturation_index)"
   ]
  },
  {
   "cell_type": "code",
   "execution_count": null,
   "id": "1e6aaf8c",
   "metadata": {
    "execution": {
     "iopub.execute_input": "2023-05-23T04:52:46.743760Z",
     "iopub.status.busy": "2023-05-23T04:52:46.743760Z",
     "iopub.status.idle": "2023-05-23T04:52:49.642965Z",
     "shell.execute_reply": "2023-05-23T04:52:49.641055Z"
    },
    "papermill": {
     "duration": 2.90975,
     "end_time": "2023-05-23T04:52:49.644956",
     "exception": false,
     "start_time": "2023-05-23T04:52:46.735206",
     "status": "completed"
    },
    "tags": []
   },
   "outputs": [],
   "source": [
    "signal_no_sleep = pd.DataFrame(data_raw)\n",
    "\n",
    "signal_no_sleep = signal_no_sleep.T\n",
    "signal_no_sleep.columns = data_channels\n",
    "signal_no_sleep"
   ]
  },
  {
   "cell_type": "code",
   "execution_count": null,
   "id": "167b198f",
   "metadata": {},
   "outputs": [],
   "source": [
    "start_append_entry = hypno_df_resampled_interpolated.iloc[-1];\n",
    "start_append_entry_start = start_append_entry['Start'] + timedelta(milliseconds=2)\n",
    "missing_samples_for_edf = []\n",
    "\n",
    "for i in range(len(signal_no_sleep)-len(hypno_df_resampled_interpolated)):\n",
    "    new_entry = {'Start': start_append_entry_start + timedelta(milliseconds=2*i), 'Epoch': start_append_entry['Epoch'], 'Stage': start_append_entry['Stage']}\n",
    "    missing_samples_for_edf.append(new_entry)\n",
    "    \n",
    "missing_samples_for_edf_df = pd.DataFrame(missing_samples_for_edf, columns=[\"Start\", \"Epoch\", \"Stage\"])\n",
    "hypno_df_resampled_interpolated = pd.concat([hypno_df_resampled_interpolated, missing_samples_for_edf_df], ignore_index=True)\n",
    "print(hypno_df_resampled_interpolated)"
   ]
  },
  {
   "cell_type": "code",
   "execution_count": null,
   "id": "b9ee811b",
   "metadata": {},
   "outputs": [],
   "source": [
    "signal_to_filter = pd.concat([signal_no_sleep, hypno_df_resampled_interpolated], axis=1)\n",
    "signal = signal_to_filter\n",
    "print(signal)"
   ]
  },
  {
   "cell_type": "code",
   "execution_count": null,
   "id": "2d93cc5c",
   "metadata": {
    "execution": {
     "iopub.execute_input": "2023-05-23T04:52:49.667494Z",
     "iopub.status.busy": "2023-05-23T04:52:49.667494Z",
     "iopub.status.idle": "2023-05-23T04:52:49.704467Z",
     "shell.execute_reply": "2023-05-23T04:52:49.704467Z"
    },
    "papermill": {
     "duration": 0.051909,
     "end_time": "2023-05-23T04:52:49.706369",
     "exception": false,
     "start_time": "2023-05-23T04:52:49.654460",
     "status": "completed"
    },
    "tags": []
   },
   "outputs": [],
   "source": [
    "saturation = signal['SpO2']\n",
    "print(saturation)"
   ]
  },
  {
   "cell_type": "code",
   "execution_count": null,
   "id": "50d48423",
   "metadata": {
    "execution": {
     "iopub.execute_input": "2023-05-23T04:52:49.731570Z",
     "iopub.status.busy": "2023-05-23T04:52:49.731570Z",
     "iopub.status.idle": "2023-05-23T04:52:50.171950Z",
     "shell.execute_reply": "2023-05-23T04:52:50.170833Z"
    },
    "papermill": {
     "duration": 0.456386,
     "end_time": "2023-05-23T04:52:50.174936",
     "exception": false,
     "start_time": "2023-05-23T04:52:49.718550",
     "status": "completed"
    },
    "scrolled": true,
    "tags": []
   },
   "outputs": [],
   "source": [
    "x = saturation\n",
    "peaks2, _ = find_peaks(x, prominence=2)      # BEST!\n",
    "x[peaks2]"
   ]
  },
  {
   "cell_type": "code",
   "execution_count": null,
   "id": "7e703ca0",
   "metadata": {
    "execution": {
     "iopub.execute_input": "2023-05-23T04:52:50.207747Z",
     "iopub.status.busy": "2023-05-23T04:52:50.206750Z",
     "iopub.status.idle": "2023-05-23T04:53:00.126802Z",
     "shell.execute_reply": "2023-05-23T04:53:00.125880Z"
    },
    "papermill": {
     "duration": 9.953571,
     "end_time": "2023-05-23T04:53:00.144459",
     "exception": false,
     "start_time": "2023-05-23T04:52:50.190888",
     "status": "completed"
    },
    "scrolled": true,
    "tags": []
   },
   "outputs": [],
   "source": [
    "x = saturation\n",
    "fig = plt.figure()\n",
    "local_minimum_indices, _ = find_peaks(-x, prominence=2)\n",
    "local_maximum_indices, _ = find_peaks(x, prominence=2)\n",
    "plt.plot(x)\n",
    "plt.plot(local_minimum_indices, x[local_minimum_indices], 'o', label='local minimums')\n",
    "plt.plot(local_maximum_indices, x[local_maximum_indices], 'x', label='local maximum')\n",
    "plt.legend()\n",
    "fig.canvas.layout.width = '1000px'\n",
    "fig.canvas.layout.height = '500px'\n",
    "plt.show()"
   ]
  },
  {
   "cell_type": "code",
   "execution_count": null,
   "id": "381a071e",
   "metadata": {
    "execution": {
     "iopub.execute_input": "2023-05-23T04:53:00.234749Z",
     "iopub.status.busy": "2023-05-23T04:53:00.234749Z",
     "iopub.status.idle": "2023-05-23T04:53:00.661585Z",
     "shell.execute_reply": "2023-05-23T04:53:00.660686Z"
    },
    "papermill": {
     "duration": 0.48372,
     "end_time": "2023-05-23T04:53:00.664649",
     "exception": false,
     "start_time": "2023-05-23T04:53:00.180929",
     "status": "completed"
    },
    "tags": []
   },
   "outputs": [],
   "source": [
    "local_minimum_values = x[local_minimum_indices]\n",
    "local_maximum_values = x[local_maximum_indices]\n",
    "differences = []\n",
    "for min_val, min_idx in zip(local_minimum_values, local_minimum_indices):\n",
    "    for max_val, max_idx in zip(local_maximum_values, local_maximum_indices):\n",
    "        if max_idx > min_idx:\n",
    "            differences.append(max_val - min_val)\n",
    "\n",
    "\n",
    "differences"
   ]
  },
  {
   "cell_type": "code",
   "execution_count": null,
   "id": "7649e73f",
   "metadata": {
    "execution": {
     "iopub.execute_input": "2023-05-23T04:53:00.751373Z",
     "iopub.status.busy": "2023-05-23T04:53:00.750374Z",
     "iopub.status.idle": "2023-05-23T04:53:00.768633Z",
     "shell.execute_reply": "2023-05-23T04:53:00.767534Z"
    },
    "papermill": {
     "duration": 0.055168,
     "end_time": "2023-05-23T04:53:00.772637",
     "exception": false,
     "start_time": "2023-05-23T04:53:00.717469",
     "status": "completed"
    },
    "scrolled": true,
    "tags": []
   },
   "outputs": [],
   "source": [
    "local_minimum_values"
   ]
  },
  {
   "cell_type": "code",
   "execution_count": null,
   "id": "e436e488",
   "metadata": {
    "execution": {
     "iopub.execute_input": "2023-05-23T04:53:00.873426Z",
     "iopub.status.busy": "2023-05-23T04:53:00.873426Z",
     "iopub.status.idle": "2023-05-23T04:53:00.894527Z",
     "shell.execute_reply": "2023-05-23T04:53:00.893513Z"
    },
    "papermill": {
     "duration": 0.081098,
     "end_time": "2023-05-23T04:53:00.896592",
     "exception": false,
     "start_time": "2023-05-23T04:53:00.815494",
     "status": "completed"
    },
    "tags": []
   },
   "outputs": [],
   "source": [
    "local_maximum_values"
   ]
  },
  {
   "cell_type": "code",
   "execution_count": null,
   "id": "e92ca478",
   "metadata": {
    "execution": {
     "iopub.execute_input": "2023-05-23T04:53:00.982797Z",
     "iopub.status.busy": "2023-05-23T04:53:00.981797Z",
     "iopub.status.idle": "2023-05-23T04:53:01.035624Z",
     "shell.execute_reply": "2023-05-23T04:53:01.034726Z"
    },
    "papermill": {
     "duration": 0.093693,
     "end_time": "2023-05-23T04:53:01.037693",
     "exception": false,
     "start_time": "2023-05-23T04:53:00.944000",
     "status": "completed"
    },
    "tags": []
   },
   "outputs": [],
   "source": [
    "df = pd.DataFrame(differences)\n",
    "df"
   ]
  },
  {
   "cell_type": "code",
   "execution_count": null,
   "id": "4eba8c67",
   "metadata": {
    "execution": {
     "iopub.execute_input": "2023-05-23T04:53:01.097639Z",
     "iopub.status.busy": "2023-05-23T04:53:01.096641Z",
     "iopub.status.idle": "2023-05-23T04:53:01.113590Z",
     "shell.execute_reply": "2023-05-23T04:53:01.112690Z"
    },
    "papermill": {
     "duration": 0.05287,
     "end_time": "2023-05-23T04:53:01.116174",
     "exception": false,
     "start_time": "2023-05-23T04:53:01.063304",
     "status": "completed"
    },
    "tags": []
   },
   "outputs": [],
   "source": [
    "#samo one razlike veće od 3%\n",
    "count = df[0][df[0] >= 3].count()\n",
    "count"
   ]
  },
  {
   "cell_type": "code",
   "execution_count": null,
   "id": "9d221f5c",
   "metadata": {
    "execution": {
     "iopub.execute_input": "2023-05-23T04:53:01.216638Z",
     "iopub.status.busy": "2023-05-23T04:53:01.216638Z",
     "iopub.status.idle": "2023-05-23T04:53:01.284436Z",
     "shell.execute_reply": "2023-05-23T04:53:01.283417Z"
    },
    "papermill": {
     "duration": 0.125523,
     "end_time": "2023-05-23T04:53:01.287422",
     "exception": false,
     "start_time": "2023-05-23T04:53:01.161899",
     "status": "completed"
    },
    "tags": []
   },
   "outputs": [],
   "source": [
    "local_minimum_values = signal.loc[local_minimum_indices]\n",
    "local_maximum_values = signal.loc[local_maximum_indices]\n",
    "connected_pairs = []\n",
    "\n",
    "\n",
    "for i, min_idx in enumerate(local_minimum_indices):\n",
    "    if(len(local_maximum_indices[local_maximum_indices < min_idx])>0):\n",
    "        max_idx = local_maximum_indices[local_maximum_indices < min_idx][-1]\n",
    "        connected_pairs.append((max_idx, min_idx))\n",
    "\n",
    "differences = []\n",
    "for max_idx, min_idx in connected_pairs:\n",
    "    max_val = x[max_idx]\n",
    "    min_val = x[min_idx]\n",
    "    diff = min_idx - max_idx\n",
    "    differences.append((diff, max_idx, min_idx, max_val, min_val))\n",
    "\n",
    "df = pd.DataFrame(differences, columns=['Index Difference', 'Maximum Index', 'Minimum Index', 'Maximum Value', 'Minimum Value'])\n",
    "df"
   ]
  },
  {
   "cell_type": "code",
   "execution_count": null,
   "id": "4b1606bb",
   "metadata": {
    "execution": {
     "iopub.execute_input": "2023-05-23T04:53:01.346228Z",
     "iopub.status.busy": "2023-05-23T04:53:01.346228Z",
     "iopub.status.idle": "2023-05-23T04:53:01.359596Z",
     "shell.execute_reply": "2023-05-23T04:53:01.359596Z"
    },
    "papermill": {
     "duration": 0.045801,
     "end_time": "2023-05-23T04:53:01.362130",
     "exception": false,
     "start_time": "2023-05-23T04:53:01.316329",
     "status": "completed"
    },
    "tags": []
   },
   "outputs": [],
   "source": [
    "df2 = df"
   ]
  },
  {
   "cell_type": "code",
   "execution_count": null,
   "id": "79986593",
   "metadata": {
    "execution": {
     "iopub.execute_input": "2023-05-23T04:53:01.422120Z",
     "iopub.status.busy": "2023-05-23T04:53:01.422120Z",
     "iopub.status.idle": "2023-05-23T04:53:01.456466Z",
     "shell.execute_reply": "2023-05-23T04:53:01.455182Z"
    },
    "papermill": {
     "duration": 0.066436,
     "end_time": "2023-05-23T04:53:01.459460",
     "exception": false,
     "start_time": "2023-05-23T04:53:01.393024",
     "status": "completed"
    },
    "scrolled": true,
    "tags": []
   },
   "outputs": [],
   "source": [
    "df2 = df.loc[(df['Index Difference'] >= 5000) & (df['Index Difference'] <= 40000)]\n",
    "df2"
   ]
  },
  {
   "cell_type": "code",
   "execution_count": null,
   "id": "1a9a5275",
   "metadata": {
    "execution": {
     "iopub.execute_input": "2023-05-23T04:53:01.567291Z",
     "iopub.status.busy": "2023-05-23T04:53:01.567291Z",
     "iopub.status.idle": "2023-05-23T04:53:01.598245Z",
     "shell.execute_reply": "2023-05-23T04:53:01.597185Z"
    },
    "papermill": {
     "duration": 0.081617,
     "end_time": "2023-05-23T04:53:01.601304",
     "exception": false,
     "start_time": "2023-05-23T04:53:01.519687",
     "status": "completed"
    },
    "scrolled": true,
    "tags": []
   },
   "outputs": [],
   "source": [
    "diffDf = df2['Maximum Value'] - df2['Minimum Value']\n",
    "df2 = pd.concat([df2, diffDf], axis=1)\n",
    "df2.columns = [*df2.columns[:-1], 'diff']\n",
    "df2"
   ]
  },
  {
   "cell_type": "code",
   "execution_count": null,
   "id": "5872ce49",
   "metadata": {
    "execution": {
     "iopub.execute_input": "2023-05-23T04:53:01.704402Z",
     "iopub.status.busy": "2023-05-23T04:53:01.703406Z",
     "iopub.status.idle": "2023-05-23T04:53:01.723955Z",
     "shell.execute_reply": "2023-05-23T04:53:01.722036Z"
    },
    "papermill": {
     "duration": 0.069988,
     "end_time": "2023-05-23T04:53:01.726042",
     "exception": false,
     "start_time": "2023-05-23T04:53:01.656054",
     "status": "completed"
    },
    "tags": []
   },
   "outputs": [],
   "source": [
    "df3 = df2.loc[(df2['diff'] >= 3)]"
   ]
  },
  {
   "cell_type": "code",
   "execution_count": null,
   "id": "df927844",
   "metadata": {
    "execution": {
     "iopub.execute_input": "2023-05-23T04:53:01.810365Z",
     "iopub.status.busy": "2023-05-23T04:53:01.809370Z",
     "iopub.status.idle": "2023-05-23T04:53:01.834762Z",
     "shell.execute_reply": "2023-05-23T04:53:01.832760Z"
    },
    "papermill": {
     "duration": 0.058359,
     "end_time": "2023-05-23T04:53:01.837749",
     "exception": false,
     "start_time": "2023-05-23T04:53:01.779390",
     "status": "completed"
    },
    "tags": []
   },
   "outputs": [],
   "source": [
    "zero_values = df3.loc[(df3['Minimum Value'] == 0)]"
   ]
  },
  {
   "cell_type": "code",
   "execution_count": null,
   "id": "e65f99b5",
   "metadata": {
    "execution": {
     "iopub.execute_input": "2023-05-23T04:53:01.919731Z",
     "iopub.status.busy": "2023-05-23T04:53:01.918736Z",
     "iopub.status.idle": "2023-05-23T04:53:01.956468Z",
     "shell.execute_reply": "2023-05-23T04:53:01.955471Z"
    },
    "papermill": {
     "duration": 0.073312,
     "end_time": "2023-05-23T04:53:01.958462",
     "exception": false,
     "start_time": "2023-05-23T04:53:01.885150",
     "status": "completed"
    },
    "scrolled": true,
    "tags": []
   },
   "outputs": [],
   "source": [
    "df4 = df3.drop(zero_values.index)\n",
    "display(df4.head(50))"
   ]
  },
  {
   "cell_type": "code",
   "execution_count": null,
   "id": "3451183e",
   "metadata": {},
   "outputs": [],
   "source": [
    "plt.rcParams[\"figure.figsize\"] = [30, 20]\n",
    "plt.rcParams[\"figure.autolayout\"] = True"
   ]
  },
  {
   "cell_type": "code",
   "execution_count": null,
   "id": "727a986b",
   "metadata": {
    "execution": {
     "iopub.execute_input": "2023-05-23T04:53:02.030217Z",
     "iopub.status.busy": "2023-05-23T04:53:02.029206Z",
     "iopub.status.idle": "2023-05-23T04:53:07.319801Z",
     "shell.execute_reply": "2023-05-23T04:53:07.317716Z"
    },
    "papermill": {
     "duration": 5.364662,
     "end_time": "2023-05-23T04:53:07.355748",
     "exception": false,
     "start_time": "2023-05-23T04:53:01.991086",
     "status": "completed"
    },
    "scrolled": true,
    "tags": []
   },
   "outputs": [],
   "source": [
    "%matplotlib\n",
    "\n",
    "x = saturation\n",
    "fig = plt.figure() # 15, 10\n",
    "# plt.xticks(fontsize=50)\n",
    "# plt.yticks(fontsize=50)\n",
    "plt.plot(x, linewidth=1)\n",
    "plt.scatter(df4['Maximum Index'], df4['Maximum Value'], color='orange', s=1)\n",
    "plt.scatter(df4['Minimum Index'], df4['Minimum Value'], color='green', s=1)\n",
    "plt.legend(['SpO2', 'MAX','MIN'], loc='lower right', fontsize=10)\n",
    "plt.savefig('Min_MAx_find_peaks_#38011865.svg')\n",
    "fig.canvas.layout.width = '1500px'\n",
    "fig.canvas.layout.height = '800px'\n",
    "plt.show()"
   ]
  },
  {
   "cell_type": "code",
   "execution_count": null,
   "id": "02099f26",
   "metadata": {
    "execution": {
     "iopub.execute_input": "2023-05-23T04:53:07.627527Z",
     "iopub.status.busy": "2023-05-23T04:53:07.626526Z",
     "iopub.status.idle": "2023-05-23T04:53:27.728720Z",
     "shell.execute_reply": "2023-05-23T04:53:27.725712Z"
    },
    "papermill": {
     "duration": 20.343116,
     "end_time": "2023-05-23T04:53:27.836817",
     "exception": false,
     "start_time": "2023-05-23T04:53:07.493701",
     "status": "completed"
    },
    "tags": []
   },
   "outputs": [],
   "source": [
    "df2\n",
    "x = saturation\n",
    "fig, ax = plt.subplots(figsize=(50,20))\n",
    "plt.xticks(fontsize=50)\n",
    "plt.yticks(fontsize=50)\n",
    "ax.plot(x, linewidth=2)\n",
    "plt.scatter(df4['Maximum Index'], df4['Maximum Value'], color='orange', linewidth=4)\n",
    "plt.scatter(df4['Minimum Index'], df4['Minimum Value'], color='green', linewidth=4)\n",
    "for i, row in df2.iterrows():\n",
    "    ax.plot([row['Maximum Index'], row['Minimum Index']], [row['Maximum Value'], row['Minimum Value']], color='purple')\n",
    "\n",
    "plt.legend(['SpO2', 'MAX','MIN','pravac',], loc='lower right', fontsize=30)\n",
    "plt.savefig('Min_MAx_find_peaks_sa_pravcem_#38011865.svg')\n",
    "plt.show()"
   ]
  },
  {
   "cell_type": "code",
   "execution_count": null,
   "id": "bf7c0ef0",
   "metadata": {
    "execution": {
     "iopub.execute_input": "2023-05-23T04:53:28.543803Z",
     "iopub.status.busy": "2023-05-23T04:53:28.542806Z",
     "iopub.status.idle": "2023-05-23T04:53:29.597995Z",
     "shell.execute_reply": "2023-05-23T04:53:29.595994Z"
    },
    "papermill": {
     "duration": 1.408489,
     "end_time": "2023-05-23T04:53:29.605649",
     "exception": false,
     "start_time": "2023-05-23T04:53:28.197160",
     "status": "completed"
    },
    "tags": []
   },
   "outputs": [],
   "source": [
    "saturation = saturation[saturation!= 0]\n",
    "display(saturation)"
   ]
  },
  {
   "cell_type": "code",
   "execution_count": null,
   "id": "33a00ec2",
   "metadata": {
    "execution": {
     "iopub.execute_input": "2023-05-23T04:53:30.214834Z",
     "iopub.status.busy": "2023-05-23T04:53:30.214834Z",
     "iopub.status.idle": "2023-05-23T04:53:30.284461Z",
     "shell.execute_reply": "2023-05-23T04:53:30.282557Z"
    },
    "papermill": {
     "duration": 0.373872,
     "end_time": "2023-05-23T04:53:30.292623",
     "exception": false,
     "start_time": "2023-05-23T04:53:29.918751",
     "status": "completed"
    },
    "tags": []
   },
   "outputs": [],
   "source": [
    "df4['Index Difference sek'] = df4['Index Difference']/1000\n",
    "display(df4)"
   ]
  },
  {
   "cell_type": "code",
   "execution_count": null,
   "id": "6e9de025",
   "metadata": {
    "execution": {
     "iopub.execute_input": "2023-05-23T04:53:30.832143Z",
     "iopub.status.busy": "2023-05-23T04:53:30.829504Z",
     "iopub.status.idle": "2023-05-23T04:53:33.367541Z",
     "shell.execute_reply": "2023-05-23T04:53:33.366544Z"
    },
    "papermill": {
     "duration": 2.805415,
     "end_time": "2023-05-23T04:53:33.373520",
     "exception": false,
     "start_time": "2023-05-23T04:53:30.568105",
     "status": "completed"
    },
    "tags": []
   },
   "outputs": [],
   "source": [
    "plt.subplots(figsize=(50,20))\n",
    "plt.xticks(fontsize=50)\n",
    "plt.yticks(fontsize=50)\n",
    "plt.grid()\n",
    "plt.xlabel('time [s]', fontsize=50)\n",
    "plt.ylabel('broj uzoraka', fontsize=50)\n",
    "plt.title('Vrijeme trajanja - histogram', fontsize=50)\n",
    "sns.histplot(df4['Index Difference sek'], kde=True, bins=20, color='magenta')\n",
    "plt.savefig('Vrijeme_trajanja_#38011865.svg')\n",
    "plt.show()"
   ]
  },
  {
   "cell_type": "code",
   "execution_count": null,
   "id": "0bc2403e",
   "metadata": {
    "execution": {
     "iopub.execute_input": "2023-05-23T04:53:33.844228Z",
     "iopub.status.busy": "2023-05-23T04:53:33.843219Z",
     "iopub.status.idle": "2023-05-23T04:53:35.840174Z",
     "shell.execute_reply": "2023-05-23T04:53:35.838896Z"
    },
    "papermill": {
     "duration": 2.250689,
     "end_time": "2023-05-23T04:53:35.845330",
     "exception": false,
     "start_time": "2023-05-23T04:53:33.594641",
     "status": "completed"
    },
    "tags": []
   },
   "outputs": [],
   "source": [
    "x = df4['Index Difference sek']\n",
    "\n",
    "plt.subplots(figsize=(50,20))\n",
    "plt.xticks(fontsize=50)\n",
    "plt.yticks(fontsize=50)\n",
    "plt.grid()\n",
    "plt.xlabel('time [s]', fontsize=50)\n",
    "plt.ylabel('number of samples', fontsize=50)\n",
    "plt.title('Duration time - histogram', fontsize=50)\n",
    "plt.hist(x, density = True, bins=20, rwidth=0.9)\n",
    "#sns.distplot(x, kde=True, bins=20, hist=True)\n",
    "#plt.legend(['SpO2', 'MAX','MIN','pravac',], loc='lower right', fontsize=30)\n",
    "plt.savefig('Duration_time_histogram_#38011865.svg')\n",
    "plt.show()"
   ]
  },
  {
   "cell_type": "code",
   "execution_count": null,
   "id": "58faa68e",
   "metadata": {
    "execution": {
     "iopub.execute_input": "2023-05-23T04:53:36.338821Z",
     "iopub.status.busy": "2023-05-23T04:53:36.337824Z",
     "iopub.status.idle": "2023-05-23T04:53:38.288941Z",
     "shell.execute_reply": "2023-05-23T04:53:38.286466Z"
    },
    "papermill": {
     "duration": 2.195595,
     "end_time": "2023-05-23T04:53:38.293279",
     "exception": false,
     "start_time": "2023-05-23T04:53:36.097684",
     "status": "completed"
    },
    "tags": []
   },
   "outputs": [],
   "source": [
    "x = df4['diff']\n",
    "plt.subplots(figsize=(50,20))\n",
    "plt.xticks(fontsize=50)\n",
    "plt.yticks(fontsize=50)\n",
    "plt.grid()\n",
    "plt.xlabel('diff', fontsize=50)\n",
    "plt.ylabel('number of samples', fontsize=50)\n",
    "plt.title('diff - histogram', fontsize=50)\n",
    "plt.hist(x, bins=20, rwidth=0.9, color = 'magenta')\n",
    "#plt.legend(['SpO2', 'MAX','MIN','pravac',], loc='lower right', fontsize=30)\n",
    "plt.savefig('diff_histogram_#38011865.svg')\n",
    "plt.show()"
   ]
  },
  {
   "cell_type": "code",
   "execution_count": null,
   "id": "7cb6e2d7",
   "metadata": {
    "execution": {
     "iopub.execute_input": "2023-05-23T04:53:38.735927Z",
     "iopub.status.busy": "2023-05-23T04:53:38.734933Z",
     "iopub.status.idle": "2023-05-23T04:53:38.875744Z",
     "shell.execute_reply": "2023-05-23T04:53:38.873752Z"
    },
    "papermill": {
     "duration": 0.38039,
     "end_time": "2023-05-23T04:53:38.881990",
     "exception": false,
     "start_time": "2023-05-23T04:53:38.501600",
     "status": "completed"
    },
    "tags": []
   },
   "outputs": [],
   "source": [
    "def direction_coefficient(row):\n",
    "    dy = row['y2'] - row['y1']\n",
    "    dx = row['x2'] - row['x1']\n",
    "    return (row['y2'] - row['y1']) / (row['x2'] - row['x1'])\n",
    "\n",
    "\n",
    "df = pd.DataFrame({'x1': df4['Maximum Index'],\n",
    "                   'y1': df4['Maximum Value'],\n",
    "                   'x2': df4['Minimum Index'],\n",
    "                   'y2': df4['Minimum Value']})\n",
    "\n",
    "df['slope'] = df.apply(direction_coefficient, axis=1)\n",
    "df['angle_degrees'] = df['slope'].apply(lambda x: math.degrees(x))\n",
    "df"
   ]
  },
  {
   "cell_type": "code",
   "execution_count": null,
   "id": "2155aecb",
   "metadata": {
    "execution": {
     "iopub.execute_input": "2023-05-23T04:53:39.360443Z",
     "iopub.status.busy": "2023-05-23T04:53:39.358287Z",
     "iopub.status.idle": "2023-05-23T04:53:42.186484Z",
     "shell.execute_reply": "2023-05-23T04:53:42.184491Z"
    },
    "papermill": {
     "duration": 3.064593,
     "end_time": "2023-05-23T04:53:42.191009",
     "exception": false,
     "start_time": "2023-05-23T04:53:39.126416",
     "status": "completed"
    },
    "tags": []
   },
   "outputs": [],
   "source": [
    "x = df['slope']\n",
    "plt.subplots(figsize=(50,20))\n",
    "plt.xticks(fontsize=50)\n",
    "plt.yticks(fontsize=50)\n",
    "plt.grid()\n",
    "plt.xlabel('slope', fontsize=50)\n",
    "plt.ylabel('number of samples', fontsize=50)\n",
    "plt.title('slope - histogram', fontsize=50)\n",
    "plt.hist(x, bins=20, rwidth=0.9, color = 'green')\n",
    "#plt.legend(['SpO2', 'MAX','MIN','pravac',], loc='lower right', fontsize=30)\n",
    "plt.savefig('slope_histogram_#38011865.svg')\n",
    "plt.show()"
   ]
  },
  {
   "cell_type": "code",
   "execution_count": null,
   "id": "bea48246",
   "metadata": {},
   "outputs": [],
   "source": []
  }
 ],
 "metadata": {
  "kernelspec": {
   "display_name": "Python 3 (ipykernel)",
   "language": "python",
   "name": "python3"
  },
  "language_info": {
   "codemirror_mode": {
    "name": "ipython",
    "version": 3
   },
   "file_extension": ".py",
   "mimetype": "text/x-python",
   "name": "python",
   "nbconvert_exporter": "python",
   "pygments_lexer": "ipython3",
   "version": "3.11.4"
  }
 },
 "nbformat": 4,
 "nbformat_minor": 5
}
