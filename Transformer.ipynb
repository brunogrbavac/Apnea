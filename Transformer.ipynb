{
  "cells": [
    {
      "cell_type": "code",
      "execution_count": null,
      "metadata": {
        "colab": {
          "background_save": true
        },
        "id": "I2GhO8OlsaMd",
        "outputId": "175a6dc5-07fb-44d5-f237-fb702b2c623f"
      },
      "outputs": [
        {
          "name": "stdout",
          "output_type": "stream",
          "text": [
            "Mounted at /content/drive\n"
          ]
        }
      ],
      "source": [
        "from google.colab import drive\n",
        "drive.mount('/content/drive')"
      ]
    },
    {
      "cell_type": "code",
      "execution_count": null,
      "metadata": {
        "id": "0o4KP_chpmSF"
      },
      "outputs": [],
      "source": [
        "import numpy as np\n",
        "import pandas as pd\n",
        "from tensorflow.keras import layers, preprocessing\n",
        "import tensorflow as tf\n",
        "from sklearn.model_selection import train_test_split\n",
        "from sklearn.metrics import mean_squared_error\n",
        "import pyarrow.feather as feather"
      ]
    },
    {
      "cell_type": "code",
      "execution_count": null,
      "metadata": {
        "id": "_MIuvGGf0Cod"
      },
      "outputs": [],
      "source": [
        "edf_path=\"/content/drive/MyDrive/temp/signal_sync_EDF (\""
      ]
    },
    {
      "cell_type": "code",
      "execution_count": null,
      "metadata": {
        "id": "40947232-85be-466c-ae54-4423be99e30f"
      },
      "outputs": [],
      "source": [
        "edf = pd.DataFrame()\n",
        "\n",
        "for i in range (1,23):\n",
        "  path = edf_path + str(i) + ').feather'\n",
        "  edf_temp = feather.read_table(path).to_pandas()\n",
        "  edf_temp['Patient'] = i\n",
        "  edf = pd.concat([edf, edf_temp.iloc[::500,:]])"
      ]
    },
    {
      "cell_type": "code",
      "execution_count": null,
      "metadata": {
        "id": "hW2ccs8rTwdK"
      },
      "outputs": [],
      "source": [
        "X_data = edf.groupby('Patient')['SpO2'].apply(list).reset_index(name='TimeSeries')['TimeSeries'].tolist()"
      ]
    },
    {
      "cell_type": "code",
      "execution_count": null,
      "metadata": {
        "colab": {
          "base_uri": "https://localhost:8080/"
        },
        "id": "Psm6PtmH8DYg",
        "outputId": "d1a3beec-d0db-48d0-9f04-48df21debccf"
      },
      "outputs": [
        {
          "data": {
            "text/plain": [
              "22"
            ]
          },
          "execution_count": 6,
          "metadata": {},
          "output_type": "execute_result"
        }
      ],
      "source": [
        "len(X_data)"
      ]
    },
    {
      "cell_type": "code",
      "execution_count": null,
      "metadata": {
        "id": "_KuRVHiG8HfY"
      },
      "outputs": [],
      "source": [
        "del edf"
      ]
    },
    {
      "cell_type": "code",
      "execution_count": null,
      "metadata": {
        "id": "-xy-vVimhDRL"
      },
      "outputs": [],
      "source": [
        "X_data = preprocessing.sequence.pad_sequences(X_data, padding=\"post\", dtype='float32')\n"
      ]
    },
    {
      "cell_type": "code",
      "execution_count": null,
      "metadata": {
        "id": "n4q0vFQyUA80"
      },
      "outputs": [],
      "source": [
        "y = np.array([32.98709474346868,40.34420652391435,18.013110808499857,61.88520676153185,43.288490284005974,22.309859154929576,51.50981226076919,33.02068965517241,29.995583689091713,39.90900644003716,56.37456501107244,56.37456501107244,23.339089339271105,\n",
        "    44.145334434351774,51.50981226076919,24.066003807911994,44.145334434351774,70.04614242844697,36.30885122410546,31.33331048898331,79.17007141080755,49.21925595452256])"
      ]
    },
    {
      "cell_type": "code",
      "execution_count": null,
      "metadata": {
        "id": "rb7Ng2J4UlFs"
      },
      "outputs": [],
      "source": [
        "X_data = X_data[..., np.newaxis]"
      ]
    },
    {
      "cell_type": "code",
      "execution_count": null,
      "metadata": {
        "id": "n3hFgRjRU0As"
      },
      "outputs": [],
      "source": [
        "X_train, X_test, y_train, y_test = train_test_split(X_data, y, test_size=0.2, random_state=42)"
      ]
    },
    {
      "cell_type": "code",
      "execution_count": null,
      "metadata": {
        "colab": {
          "base_uri": "https://localhost:8080/"
        },
        "id": "0oV_Mnynh1lB",
        "outputId": "3a6960bc-9f73-4e86-c8a7-0e21e4b0e7f8"
      },
      "outputs": [
        {
          "data": {
            "text/plain": [
              "17"
            ]
          },
          "execution_count": 12,
          "metadata": {},
          "output_type": "execute_result"
        }
      ],
      "source": [
        "len(X_train)"
      ]
    },
    {
      "cell_type": "code",
      "execution_count": null,
      "metadata": {
        "colab": {
          "base_uri": "https://localhost:8080/"
        },
        "id": "Q6IOnjwNoqtz",
        "outputId": "577bc6da-209f-49c9-9c5e-5e51a7a069f2"
      },
      "outputs": [
        {
          "data": {
            "text/plain": [
              "array([22.30985915, 79.17007141, 56.37456501, 61.88520676, 43.28849028,\n",
              "       70.04614243, 23.33908934, 36.30885122, 44.14533443, 18.01311081,\n",
              "       39.90900644, 49.21925595, 33.02068966, 56.37456501, 51.50981226,\n",
              "       31.33331049, 51.50981226])"
            ]
          },
          "execution_count": 13,
          "metadata": {},
          "output_type": "execute_result"
        }
      ],
      "source": [
        "y_train"
      ]
    },
    {
      "cell_type": "code",
      "execution_count": null,
      "metadata": {
        "id": "k3hmW_3GVIX-"
      },
      "outputs": [],
      "source": [
        "d_model = 16\n",
        "nhead = 4\n",
        "dim_feedforward = 16\n"
      ]
    },
    {
      "cell_type": "code",
      "execution_count": null,
      "metadata": {
        "id": "6KMueizEXrt8"
      },
      "outputs": [],
      "source": [
        "def transformer_encoder(input_layer, d_model, nhead, dim_feedforward):\n",
        "    multi_head_attn = layers.MultiHeadAttention(num_heads=nhead, key_dim=d_model)\n",
        "    x = multi_head_attn(input_layer, input_layer)\n",
        "\n",
        "    x = layers.Add()([input_layer, x])\n",
        "    x = layers.LayerNormalization()(x)\n",
        "\n",
        "    ffn = tf.keras.Sequential(\n",
        "        [\n",
        "            layers.Dense(dim_feedforward, activation=\"relu\"),\n",
        "            layers.Dense(d_model),\n",
        "        ]\n",
        "    )\n",
        "\n",
        "    x = ffn(x)\n",
        "    seq_output = layers.Add()([x, input_layer])\n",
        "    seq_output = layers.LayerNormalization()(seq_output)\n",
        "\n",
        "    return seq_output\n"
      ]
    },
    {
      "cell_type": "code",
      "execution_count": null,
      "metadata": {
        "id": "peJqIPENVN9n"
      },
      "outputs": [],
      "source": [
        "masking_layer = layers.Masking(mask_value=0.)\n",
        "\n",
        "input_layer = layers.Input(shape=(None, 1))\n",
        "\n",
        "x = masking_layer(input_layer)\n",
        "\n",
        "x = transformer_encoder(x, d_model=d_model, nhead=nhead, dim_feedforward=dim_feedforward)\n",
        "\n",
        "x = layers.GlobalAveragePooling1D()(x)\n",
        "output_layer = layers.Dense(1, activation='linear')(x)\n",
        "model = tf.keras.Model(inputs=input_layer, outputs=output_layer)\n",
        "model.compile(optimizer='adam', loss='mean_squared_error')"
      ]
    },
    {
      "cell_type": "code",
      "execution_count": null,
      "metadata": {
        "id": "nVOLyIQ9VQcY"
      },
      "outputs": [],
      "source": [
        "model.fit(X_train, y_train, epochs=20, batch_size=1, verbose=2)\n"
      ]
    },
    {
      "cell_type": "code",
      "execution_count": null,
      "metadata": {
        "id": "VYU3VJI_VRr7"
      },
      "outputs": [],
      "source": [
        "y_pred = model.predict(X_test)\n",
        "test_mse = mean_squared_error(y_test, y_pred)\n",
        "print(f\"Test MSE: {test_mse}\")"
      ]
    },
    {
      "cell_type": "code",
      "execution_count": null,
      "metadata": {
        "id": "778kteoEsSNS"
      },
      "outputs": [],
      "source": []
    }
  ],
  "metadata": {
    "colab": {
      "machine_shape": "hm",
      "provenance": []
    },
    "kernelspec": {
      "display_name": "Python 3",
      "name": "python3"
    },
    "language_info": {
      "name": "python"
    }
  },
  "nbformat": 4,
  "nbformat_minor": 0
}