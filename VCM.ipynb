{
 "cells": [
  {
   "cell_type": "code",
   "execution_count": 1,
   "id": "25408cab-cbce-4662-b781-1dc56190c1b3",
   "metadata": {},
   "outputs": [],
   "source": [
    "from sklearn.ensemble import RandomForestClassifier, GradientBoostingClassifier, VotingClassifier\n",
    "from sklearn.svm import SVC\n",
    "from sklearn.metrics import accuracy_score\n",
    "from sklearn.model_selection import train_test_split\n",
    "import matplotlib.pyplot as plt\n",
    "import pyarrow.feather as feather"
   ]
  },
  {
   "cell_type": "code",
   "execution_count": 2,
   "id": "40947232-85be-466c-ae54-4423be99e30f",
   "metadata": {},
   "outputs": [],
   "source": [
    "table_data = feather.read_table(\"C:\\\\Users\\\\bruno\\\\Desktop\\\\Diplomski\\\\one_df_trta_SYNC.feather\")\n",
    "edf = table_data.to_pandas()"
   ]
  },
  {
   "cell_type": "code",
   "execution_count": 4,
   "id": "e1418a2e-505d-4162-941e-ea4edb832f7c",
   "metadata": {},
   "outputs": [],
   "source": [
    "features = edf[['SpO2', 'PulseRate', 'Effort THO', 'Effort ABD','Snore_x']]\n",
    "labels = edf['Stage']\n",
    "\n",
    "X_train, X_test, y_train, y_test = train_test_split(features, labels, test_size=0.2, random_state=42)"
   ]
  },
  {
   "cell_type": "code",
   "execution_count": 5,
   "id": "aa45d0f9-0418-49c5-b0ec-0b20dfb1e012",
   "metadata": {},
   "outputs": [],
   "source": [
    "rf_clf = RandomForestClassifier(n_estimators=100, random_state=42, verbose=2)\n",
    "svm_clf = SVC(probability=True, kernel='linear', verbose=2)\n",
    "gb_clf = GradientBoostingClassifier(n_estimators=100, learning_rate=1.0, random_state=42, verbose=2)\n",
    "\n",
    "# Initialize Voting Classifier\n",
    "voting_clf = VotingClassifier(estimators=[('rf', rf_clf), ('svm', svm_clf), ('gb', gb_clf)], voting='soft', verbose=2)"
   ]
  },
  {
   "cell_type": "code",
   "execution_count": null,
   "id": "19d9672b-bee9-431b-ba69-411a4df8c377",
   "metadata": {},
   "outputs": [],
   "source": [
    "voting_clf.fit(X_train, y_train)"
   ]
  },
  {
   "cell_type": "code",
   "execution_count": null,
   "id": "f828f62b-974f-4d1e-a83c-2a847643c304",
   "metadata": {},
   "outputs": [],
   "source": [
    "y_pred = voting_clf.predict(X_test)\n",
    "print(\"Voting Classifier Accuracy:\", accuracy_score(y_test, y_pred))"
   ]
  }
 ],
 "metadata": {
  "kernelspec": {
   "display_name": "Python 3 (ipykernel)",
   "language": "python",
   "name": "python3"
  },
  "language_info": {
   "codemirror_mode": {
    "name": "ipython",
    "version": 3
   },
   "file_extension": ".py",
   "mimetype": "text/x-python",
   "name": "python",
   "nbconvert_exporter": "python",
   "pygments_lexer": "ipython3",
   "version": "3.11.4"
  }
 },
 "nbformat": 4,
 "nbformat_minor": 5
}
