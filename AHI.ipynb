{
 "cells": [
  {
   "cell_type": "code",
   "execution_count": 219,
   "id": "83c8c3f3-d6c8-45dc-8dbd-243506571032",
   "metadata": {
    "executionInfo": {
     "elapsed": 263,
     "status": "ok",
     "timestamp": 1690731393284,
     "user": {
      "displayName": "Bruno Grbavac",
      "userId": "16503847937335209341"
     },
     "user_tz": -120
    },
    "id": "iKw0rfKE3gg_",
    "tags": [
     "parameters"
    ]
   },
   "outputs": [],
   "source": [
    "#parameters\n",
    "\n",
    "root_path=\"C:\\\\Users\\\\bruno\\\\Desktop\\\\Diplomski\\\\38012068\\\\\""
   ]
  },
  {
   "cell_type": "code",
   "execution_count": 220,
   "id": "47e469fe-1b8f-4d04-b695-c0d4092a835f",
   "metadata": {
    "tags": []
   },
   "outputs": [],
   "source": [
    "events_path = root_path + \"csv_events.csv\""
   ]
  },
  {
   "cell_type": "code",
   "execution_count": 221,
   "id": "4bc4e0c2-5b2b-46e2-850a-a29f8bb133ae",
   "metadata": {
    "executionInfo": {
     "elapsed": 3336,
     "status": "ok",
     "timestamp": 1690731414084,
     "user": {
      "displayName": "Bruno Grbavac",
      "userId": "16503847937335209341"
     },
     "user_tz": -120
    },
    "id": "ca63a5b0",
    "tags": []
   },
   "outputs": [],
   "source": [
    "import pandas as pd\n",
    "import numpy as np\n",
    "import csv\n",
    "from datetime import datetime, timedelta, time"
   ]
  },
  {
   "cell_type": "code",
   "execution_count": 222,
   "id": "69c0127c-8667-4058-8798-49c4be4332a9",
   "metadata": {
    "executionInfo": {
     "elapsed": 325,
     "status": "ok",
     "timestamp": 1690731488537,
     "user": {
      "displayName": "Bruno Grbavac",
      "userId": "16503847937335209341"
     },
     "user_tz": -120
    },
    "id": "433a16d0"
   },
   "outputs": [],
   "source": [
    "def shiftTimestampToYesterday(value):\n",
    "    noon = time(12, 0)\n",
    "    if(noon<value.time()):\n",
    "        return value - timedelta(days=1)\n",
    "    else:\n",
    "        return value"
   ]
  },
  {
   "cell_type": "code",
   "execution_count": 223,
   "id": "65e634f1-37c8-4926-889f-f0c6ce838a82",
   "metadata": {
    "tags": []
   },
   "outputs": [],
   "source": [
    "def apnea_severity(ahi):\n",
    "    if ahi < 0:\n",
    "        return \"Invalid\"\n",
    "    elif ahi >= 0 and ahi < 5:\n",
    "        return \"Normal\"\n",
    "    elif ahi >= 5 and ahi < 15:\n",
    "        return \"Mild\"\n",
    "    elif ahi >= 15 and ahi < 30:\n",
    "        return \"Moderate\"\n",
    "    else:\n",
    "        return \"Severe\""
   ]
  },
  {
   "cell_type": "code",
   "execution_count": 224,
   "id": "bd76a27c-d37b-4fe5-b780-3e91c972026c",
   "metadata": {},
   "outputs": [],
   "source": [
    "events_df = pd.read_csv(events_path, sep=';')"
   ]
  },
  {
   "cell_type": "code",
   "execution_count": 225,
   "id": "1e3d0efb-dd8d-45d7-9cdf-cfc0bd04f623",
   "metadata": {
    "tags": []
   },
   "outputs": [],
   "source": [
    "total_events = len(events_df[events_df['Type'].isin(['Central Apnea', 'Obstructive Apnea', 'Hypopnea'])])"
   ]
  },
  {
   "cell_type": "code",
   "execution_count": 226,
   "id": "2a71e7a9-7deb-4430-8dba-6a82036f81d2",
   "metadata": {
    "tags": []
   },
   "outputs": [
    {
     "name": "stderr",
     "output_type": "stream",
     "text": [
      "C:\\Users\\bruno\\AppData\\Local\\Temp\\ipykernel_26228\\2432559367.py:1: UserWarning: Could not infer format, so each element will be parsed individually, falling back to `dateutil`. To ensure parsing is consistent and as-expected, please specify a format.\n",
      "  events_df['Time'] = pd.to_datetime(events_df['Time'])\n"
     ]
    }
   ],
   "source": [
    "events_df['Time'] = pd.to_datetime(events_df['Time'])\n",
    "events_df['Time'] = events_df['Time'].apply(shiftTimestampToYesterday) "
   ]
  },
  {
   "cell_type": "code",
   "execution_count": 227,
   "id": "b255f468-eb27-47c6-8869-17514e61d937",
   "metadata": {
    "tags": []
   },
   "outputs": [],
   "source": [
    "total_time = (events_df.iloc[-1]['Time']-events_df.iloc[0]['Time']).total_seconds() / (60 * 60)  # Convert to hours\n"
   ]
  },
  {
   "cell_type": "code",
   "execution_count": 228,
   "id": "b35a5134-7a90-431a-9e40-97e48b748eb8",
   "metadata": {
    "tags": []
   },
   "outputs": [
    {
     "name": "stdout",
     "output_type": "stream",
     "text": [
      "Apnea severity: Severe 32.98709474346868\n"
     ]
    }
   ],
   "source": [
    "AHI = total_events / total_time\n",
    "print(\"Apnea severity:\", apnea_severity(AHI), AHI)"
   ]
  }
 ],
 "metadata": {
  "kernelspec": {
   "display_name": "Python 3 (ipykernel)",
   "language": "python",
   "name": "python3"
  },
  "language_info": {
   "codemirror_mode": {
    "name": "ipython",
    "version": 3
   },
   "file_extension": ".py",
   "mimetype": "text/x-python",
   "name": "python",
   "nbconvert_exporter": "python",
   "pygments_lexer": "ipython3",
   "version": "3.11.4"
  }
 },
 "nbformat": 4,
 "nbformat_minor": 5
}
