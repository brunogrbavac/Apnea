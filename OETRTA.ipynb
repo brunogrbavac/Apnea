{
 "cells": [
  {
   "cell_type": "code",
   "execution_count": 1,
   "id": "d16723c6-9fdf-48d1-91a0-1e0bf8a56ca4",
   "metadata": {
    "editable": true,
    "slideshow": {
     "slide_type": ""
    },
    "tags": []
   },
   "outputs": [],
   "source": [
    "from SL23_OneEDFtoRuleThemAll import one_df_trta "
   ]
  },
  {
   "cell_type": "code",
   "execution_count": 2,
   "id": "ad03c4ac-2e67-4eec-9d2e-9c861aa9f5fa",
   "metadata": {
    "editable": true,
    "slideshow": {
     "slide_type": ""
    },
    "tags": []
   },
   "outputs": [],
   "source": [
    "root_path=\"C:\\\\Users\\\\bruno\\\\Desktop\\\\Diplomski\""
   ]
  },
  {
   "cell_type": "code",
   "execution_count": null,
   "id": "624377ce-f777-4a7b-b6da-da2aca5121ea",
   "metadata": {
    "editable": true,
    "scrolled": true,
    "slideshow": {
     "slide_type": ""
    },
    "tags": []
   },
   "outputs": [],
   "source": [
    "one_df_trta()"
   ]
  },
  {
   "cell_type": "code",
   "execution_count": null,
   "id": "42ee0cbc-c346-4d57-ae8d-119585ab1c52",
   "metadata": {
    "editable": true,
    "slideshow": {
     "slide_type": ""
    },
    "tags": []
   },
   "outputs": [],
   "source": []
  }
 ],
 "metadata": {
  "kernelspec": {
   "display_name": "Python 3 (ipykernel)",
   "language": "python",
   "name": "python3"
  },
  "language_info": {
   "codemirror_mode": {
    "name": "ipython",
    "version": 3
   },
   "file_extension": ".py",
   "mimetype": "text/x-python",
   "name": "python",
   "nbconvert_exporter": "python",
   "pygments_lexer": "ipython3",
   "version": "3.11.4"
  }
 },
 "nbformat": 4,
 "nbformat_minor": 5
}
